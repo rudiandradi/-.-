{
 "cells": [
  {
   "cell_type": "markdown",
   "metadata": {},
   "source": [
    "\n",
    "<b>Описание проекта:</b>\n",
    "\n",
    "В работе необходимо выявить факторы, определяющие успешность игр, чтобы правильно спланировать рекламные компании для интернет-магазина.  \n",
    "\n",
    "<b>Входные данные</b>:  \n",
    "  \n",
    "Данные, с которыми мне предстоит работать, представляют собой dataset и содержат следующую информацию:\n",
    "• Name — название игры  \n",
    "• Platform — платформа  \n",
    "• Year_of_Release — год выпуска  \n",
    "• Genre — жанр игры  \n",
    "• NA_sales — продажи в Северной Америке (миллионы долларов)  \n",
    "• EU_sales — продажи в Европе (миллионы долларов)  \n",
    "• JP_sales — продажи в Японии (миллионы долларов)  \n",
    "• Other_sales — продажи в других странах (миллионы долларов)  \n",
    "• Critic_Score — оценка критиков (от 0 до 100)  \n",
    "• User_Score — оценка пользователей (от 0 до 10)  \n",
    "• Rating — рейтинг от организации ESRB (англ. Entertainment Software Rating Board). Эта ассоциация определяет рейтинг компьютерных игр и присваивает им подходящую возрастную категорию.\n",
    "\n",
    "<b>План работы включает в себя</b>:\n",
    "\n",
    "1) Произвести первичную обработку данных данных    \n",
    "2) Провести исследовательский анализ данных  \n",
    "3) Составить портеры пользователей   \n",
    "4) Провести исследование различных статистических показателей  \n",
    "5) Проверить статистические гипотезы  \n",
    "    <div>"
   ]
  },
  {
   "cell_type": "markdown",
   "metadata": {},
   "source": [
    "### Шаг 1. Получим данные"
   ]
  },
  {
   "cell_type": "code",
   "execution_count": 1,
   "metadata": {},
   "outputs": [],
   "source": [
    "# Импорт необходимых библиотек\n",
    "\n",
    "import numpy as np # Для быстрых и сложных математических операций\n",
    "import pandas as pd # База анализа данных\n",
    "import matplotlib.pyplot as plt # Кастомизация графиков\n",
    "import plotly.express as px # Крутые интерактивные графики\n",
    "from plotly.offline import init_notebook_mode, iplot # для офлайн отображения plotly графиков\n",
    "from datetime import datetime\n",
    "from scipy import stats as st\n",
    "import math\n",
    "%matplotlib inline"
   ]
  },
  {
   "cell_type": "code",
   "execution_count": 2,
   "metadata": {
    "scrolled": false
   },
   "outputs": [
    {
     "data": {
      "text/html": [
       "<div>\n",
       "<style scoped>\n",
       "    .dataframe tbody tr th:only-of-type {\n",
       "        vertical-align: middle;\n",
       "    }\n",
       "\n",
       "    .dataframe tbody tr th {\n",
       "        vertical-align: top;\n",
       "    }\n",
       "\n",
       "    .dataframe thead th {\n",
       "        text-align: right;\n",
       "    }\n",
       "</style>\n",
       "<table border=\"1\" class=\"dataframe\">\n",
       "  <thead>\n",
       "    <tr style=\"text-align: right;\">\n",
       "      <th></th>\n",
       "      <th>Name</th>\n",
       "      <th>Platform</th>\n",
       "      <th>Year_of_Release</th>\n",
       "      <th>Genre</th>\n",
       "      <th>NA_sales</th>\n",
       "      <th>EU_sales</th>\n",
       "      <th>JP_sales</th>\n",
       "      <th>Other_sales</th>\n",
       "      <th>Critic_Score</th>\n",
       "      <th>User_Score</th>\n",
       "      <th>Rating</th>\n",
       "    </tr>\n",
       "  </thead>\n",
       "  <tbody>\n",
       "    <tr>\n",
       "      <td>0</td>\n",
       "      <td>Wii Sports</td>\n",
       "      <td>Wii</td>\n",
       "      <td>2006.0</td>\n",
       "      <td>Sports</td>\n",
       "      <td>41.36</td>\n",
       "      <td>28.96</td>\n",
       "      <td>3.77</td>\n",
       "      <td>8.45</td>\n",
       "      <td>76.0</td>\n",
       "      <td>8</td>\n",
       "      <td>E</td>\n",
       "    </tr>\n",
       "    <tr>\n",
       "      <td>1</td>\n",
       "      <td>Super Mario Bros.</td>\n",
       "      <td>NES</td>\n",
       "      <td>1985.0</td>\n",
       "      <td>Platform</td>\n",
       "      <td>29.08</td>\n",
       "      <td>3.58</td>\n",
       "      <td>6.81</td>\n",
       "      <td>0.77</td>\n",
       "      <td>NaN</td>\n",
       "      <td>NaN</td>\n",
       "      <td>NaN</td>\n",
       "    </tr>\n",
       "    <tr>\n",
       "      <td>2</td>\n",
       "      <td>Mario Kart Wii</td>\n",
       "      <td>Wii</td>\n",
       "      <td>2008.0</td>\n",
       "      <td>Racing</td>\n",
       "      <td>15.68</td>\n",
       "      <td>12.76</td>\n",
       "      <td>3.79</td>\n",
       "      <td>3.29</td>\n",
       "      <td>82.0</td>\n",
       "      <td>8.3</td>\n",
       "      <td>E</td>\n",
       "    </tr>\n",
       "    <tr>\n",
       "      <td>3</td>\n",
       "      <td>Wii Sports Resort</td>\n",
       "      <td>Wii</td>\n",
       "      <td>2009.0</td>\n",
       "      <td>Sports</td>\n",
       "      <td>15.61</td>\n",
       "      <td>10.93</td>\n",
       "      <td>3.28</td>\n",
       "      <td>2.95</td>\n",
       "      <td>80.0</td>\n",
       "      <td>8</td>\n",
       "      <td>E</td>\n",
       "    </tr>\n",
       "    <tr>\n",
       "      <td>4</td>\n",
       "      <td>Pokemon Red/Pokemon Blue</td>\n",
       "      <td>GB</td>\n",
       "      <td>1996.0</td>\n",
       "      <td>Role-Playing</td>\n",
       "      <td>11.27</td>\n",
       "      <td>8.89</td>\n",
       "      <td>10.22</td>\n",
       "      <td>1.00</td>\n",
       "      <td>NaN</td>\n",
       "      <td>NaN</td>\n",
       "      <td>NaN</td>\n",
       "    </tr>\n",
       "  </tbody>\n",
       "</table>\n",
       "</div>"
      ],
      "text/plain": [
       "                       Name Platform  Year_of_Release         Genre  NA_sales  \\\n",
       "0                Wii Sports      Wii           2006.0        Sports     41.36   \n",
       "1         Super Mario Bros.      NES           1985.0      Platform     29.08   \n",
       "2            Mario Kart Wii      Wii           2008.0        Racing     15.68   \n",
       "3         Wii Sports Resort      Wii           2009.0        Sports     15.61   \n",
       "4  Pokemon Red/Pokemon Blue       GB           1996.0  Role-Playing     11.27   \n",
       "\n",
       "   EU_sales  JP_sales  Other_sales  Critic_Score User_Score Rating  \n",
       "0     28.96      3.77         8.45          76.0          8      E  \n",
       "1      3.58      6.81         0.77           NaN        NaN    NaN  \n",
       "2     12.76      3.79         3.29          82.0        8.3      E  \n",
       "3     10.93      3.28         2.95          80.0          8      E  \n",
       "4      8.89     10.22         1.00           NaN        NaN    NaN  "
      ]
     },
     "execution_count": 2,
     "metadata": {},
     "output_type": "execute_result"
    }
   ],
   "source": [
    "# Читаем данные и смотрим на них\n",
    "\n",
    "games_data = pd.read_csv('/datasets/games.csv')\n",
    "games_data.head()"
   ]
  },
  {
   "cell_type": "markdown",
   "metadata": {},
   "source": [
    "### Шаг 2. Изучим общую информацию о данных"
   ]
  },
  {
   "cell_type": "code",
   "execution_count": 3,
   "metadata": {
    "scrolled": false
   },
   "outputs": [
    {
     "data": {
      "text/html": [
       "<div>\n",
       "<style scoped>\n",
       "    .dataframe tbody tr th:only-of-type {\n",
       "        vertical-align: middle;\n",
       "    }\n",
       "\n",
       "    .dataframe tbody tr th {\n",
       "        vertical-align: top;\n",
       "    }\n",
       "\n",
       "    .dataframe thead th {\n",
       "        text-align: right;\n",
       "    }\n",
       "</style>\n",
       "<table border=\"1\" class=\"dataframe\">\n",
       "  <thead>\n",
       "    <tr style=\"text-align: right;\">\n",
       "      <th></th>\n",
       "      <th>Year_of_Release</th>\n",
       "      <th>NA_sales</th>\n",
       "      <th>EU_sales</th>\n",
       "      <th>JP_sales</th>\n",
       "      <th>Other_sales</th>\n",
       "      <th>Critic_Score</th>\n",
       "    </tr>\n",
       "  </thead>\n",
       "  <tbody>\n",
       "    <tr>\n",
       "      <td>count</td>\n",
       "      <td>16446.000000</td>\n",
       "      <td>16715.000000</td>\n",
       "      <td>16715.000000</td>\n",
       "      <td>16715.000000</td>\n",
       "      <td>16715.000000</td>\n",
       "      <td>8137.000000</td>\n",
       "    </tr>\n",
       "    <tr>\n",
       "      <td>mean</td>\n",
       "      <td>2006.484616</td>\n",
       "      <td>0.263377</td>\n",
       "      <td>0.145060</td>\n",
       "      <td>0.077617</td>\n",
       "      <td>0.047342</td>\n",
       "      <td>68.967679</td>\n",
       "    </tr>\n",
       "    <tr>\n",
       "      <td>std</td>\n",
       "      <td>5.877050</td>\n",
       "      <td>0.813604</td>\n",
       "      <td>0.503339</td>\n",
       "      <td>0.308853</td>\n",
       "      <td>0.186731</td>\n",
       "      <td>13.938165</td>\n",
       "    </tr>\n",
       "    <tr>\n",
       "      <td>min</td>\n",
       "      <td>1980.000000</td>\n",
       "      <td>0.000000</td>\n",
       "      <td>0.000000</td>\n",
       "      <td>0.000000</td>\n",
       "      <td>0.000000</td>\n",
       "      <td>13.000000</td>\n",
       "    </tr>\n",
       "    <tr>\n",
       "      <td>25%</td>\n",
       "      <td>2003.000000</td>\n",
       "      <td>0.000000</td>\n",
       "      <td>0.000000</td>\n",
       "      <td>0.000000</td>\n",
       "      <td>0.000000</td>\n",
       "      <td>60.000000</td>\n",
       "    </tr>\n",
       "    <tr>\n",
       "      <td>50%</td>\n",
       "      <td>2007.000000</td>\n",
       "      <td>0.080000</td>\n",
       "      <td>0.020000</td>\n",
       "      <td>0.000000</td>\n",
       "      <td>0.010000</td>\n",
       "      <td>71.000000</td>\n",
       "    </tr>\n",
       "    <tr>\n",
       "      <td>75%</td>\n",
       "      <td>2010.000000</td>\n",
       "      <td>0.240000</td>\n",
       "      <td>0.110000</td>\n",
       "      <td>0.040000</td>\n",
       "      <td>0.030000</td>\n",
       "      <td>79.000000</td>\n",
       "    </tr>\n",
       "    <tr>\n",
       "      <td>max</td>\n",
       "      <td>2016.000000</td>\n",
       "      <td>41.360000</td>\n",
       "      <td>28.960000</td>\n",
       "      <td>10.220000</td>\n",
       "      <td>10.570000</td>\n",
       "      <td>98.000000</td>\n",
       "    </tr>\n",
       "  </tbody>\n",
       "</table>\n",
       "</div>"
      ],
      "text/plain": [
       "       Year_of_Release      NA_sales      EU_sales      JP_sales  \\\n",
       "count     16446.000000  16715.000000  16715.000000  16715.000000   \n",
       "mean       2006.484616      0.263377      0.145060      0.077617   \n",
       "std           5.877050      0.813604      0.503339      0.308853   \n",
       "min        1980.000000      0.000000      0.000000      0.000000   \n",
       "25%        2003.000000      0.000000      0.000000      0.000000   \n",
       "50%        2007.000000      0.080000      0.020000      0.000000   \n",
       "75%        2010.000000      0.240000      0.110000      0.040000   \n",
       "max        2016.000000     41.360000     28.960000     10.220000   \n",
       "\n",
       "        Other_sales  Critic_Score  \n",
       "count  16715.000000   8137.000000  \n",
       "mean       0.047342     68.967679  \n",
       "std        0.186731     13.938165  \n",
       "min        0.000000     13.000000  \n",
       "25%        0.000000     60.000000  \n",
       "50%        0.010000     71.000000  \n",
       "75%        0.030000     79.000000  \n",
       "max       10.570000     98.000000  "
      ]
     },
     "execution_count": 3,
     "metadata": {},
     "output_type": "execute_result"
    }
   ],
   "source": [
    "games_data.describe()"
   ]
  },
  {
   "cell_type": "code",
   "execution_count": 4,
   "metadata": {
    "scrolled": true
   },
   "outputs": [
    {
     "name": "stdout",
     "output_type": "stream",
     "text": [
      "<class 'pandas.core.frame.DataFrame'>\n",
      "RangeIndex: 16715 entries, 0 to 16714\n",
      "Data columns (total 11 columns):\n",
      "Name               16713 non-null object\n",
      "Platform           16715 non-null object\n",
      "Year_of_Release    16446 non-null float64\n",
      "Genre              16713 non-null object\n",
      "NA_sales           16715 non-null float64\n",
      "EU_sales           16715 non-null float64\n",
      "JP_sales           16715 non-null float64\n",
      "Other_sales        16715 non-null float64\n",
      "Critic_Score       8137 non-null float64\n",
      "User_Score         10014 non-null object\n",
      "Rating             9949 non-null object\n",
      "dtypes: float64(6), object(5)\n",
      "memory usage: 1.4+ MB\n"
     ]
    }
   ],
   "source": [
    "games_data.info()"
   ]
  },
  {
   "cell_type": "markdown",
   "metadata": {},
   "source": [
    "В DataFrame'е 16713 строк, есть пропущенные значения, типы данных, в основном числовые. Также встречаются строчные"
   ]
  },
  {
   "cell_type": "code",
   "execution_count": 5,
   "metadata": {},
   "outputs": [
    {
     "data": {
      "text/plain": [
       "Name                  2\n",
       "Platform              0\n",
       "Year_of_Release     269\n",
       "Genre                 2\n",
       "NA_sales              0\n",
       "EU_sales              0\n",
       "JP_sales              0\n",
       "Other_sales           0\n",
       "Critic_Score       8578\n",
       "User_Score         6701\n",
       "Rating             6766\n",
       "dtype: int64"
      ]
     },
     "execution_count": 5,
     "metadata": {},
     "output_type": "execute_result"
    }
   ],
   "source": [
    "# Посмотрим на пропущенные значения\n",
    "\n",
    "games_data.isna().sum()"
   ]
  },
  {
   "cell_type": "code",
   "execution_count": 6,
   "metadata": {},
   "outputs": [
    {
     "data": {
      "text/plain": [
       "0"
      ]
     },
     "execution_count": 6,
     "metadata": {},
     "output_type": "execute_result"
    }
   ],
   "source": [
    "# И дубликаты\n",
    "\n",
    "games_data.duplicated().sum()"
   ]
  },
  {
   "cell_type": "markdown",
   "metadata": {},
   "source": [
    "### Предподготовка данных:"
   ]
  },
  {
   "cell_type": "markdown",
   "metadata": {},
   "source": [
    "#### Заменим названия столбцов на более удобные"
   ]
  },
  {
   "cell_type": "code",
   "execution_count": 7,
   "metadata": {
    "scrolled": false
   },
   "outputs": [
    {
     "data": {
      "text/plain": [
       "Index(['name', 'platform', 'year_of_release', 'genre', 'na_sales', 'eu_sales',\n",
       "       'jp_sales', 'other_sales', 'critic_score', 'user_score', 'rating'],\n",
       "      dtype='object')"
      ]
     },
     "execution_count": 7,
     "metadata": {},
     "output_type": "execute_result"
    }
   ],
   "source": [
    "games_data.columns = [x.lower() for x in games_data.columns]\n",
    "games_data.columns"
   ]
  },
  {
   "cell_type": "markdown",
   "metadata": {},
   "source": [
    "#### Посчитаем суммарные продажи"
   ]
  },
  {
   "cell_type": "code",
   "execution_count": 8,
   "metadata": {},
   "outputs": [],
   "source": [
    "games_data['total_sales'] = games_data[['na_sales','eu_sales','jp_sales','other_sales']].sum(axis=1)"
   ]
  },
  {
   "cell_type": "code",
   "execution_count": 9,
   "metadata": {
    "scrolled": true
   },
   "outputs": [
    {
     "data": {
      "text/html": [
       "<div>\n",
       "<style scoped>\n",
       "    .dataframe tbody tr th:only-of-type {\n",
       "        vertical-align: middle;\n",
       "    }\n",
       "\n",
       "    .dataframe tbody tr th {\n",
       "        vertical-align: top;\n",
       "    }\n",
       "\n",
       "    .dataframe thead th {\n",
       "        text-align: right;\n",
       "    }\n",
       "</style>\n",
       "<table border=\"1\" class=\"dataframe\">\n",
       "  <thead>\n",
       "    <tr style=\"text-align: right;\">\n",
       "      <th></th>\n",
       "      <th>name</th>\n",
       "      <th>platform</th>\n",
       "      <th>year_of_release</th>\n",
       "      <th>genre</th>\n",
       "      <th>na_sales</th>\n",
       "      <th>eu_sales</th>\n",
       "      <th>jp_sales</th>\n",
       "      <th>other_sales</th>\n",
       "      <th>critic_score</th>\n",
       "      <th>user_score</th>\n",
       "      <th>rating</th>\n",
       "      <th>total_sales</th>\n",
       "    </tr>\n",
       "  </thead>\n",
       "  <tbody>\n",
       "    <tr>\n",
       "      <td>0</td>\n",
       "      <td>Wii Sports</td>\n",
       "      <td>Wii</td>\n",
       "      <td>2006.0</td>\n",
       "      <td>Sports</td>\n",
       "      <td>41.36</td>\n",
       "      <td>28.96</td>\n",
       "      <td>3.77</td>\n",
       "      <td>8.45</td>\n",
       "      <td>76.0</td>\n",
       "      <td>8</td>\n",
       "      <td>E</td>\n",
       "      <td>82.54</td>\n",
       "    </tr>\n",
       "    <tr>\n",
       "      <td>1</td>\n",
       "      <td>Super Mario Bros.</td>\n",
       "      <td>NES</td>\n",
       "      <td>1985.0</td>\n",
       "      <td>Platform</td>\n",
       "      <td>29.08</td>\n",
       "      <td>3.58</td>\n",
       "      <td>6.81</td>\n",
       "      <td>0.77</td>\n",
       "      <td>NaN</td>\n",
       "      <td>NaN</td>\n",
       "      <td>NaN</td>\n",
       "      <td>40.24</td>\n",
       "    </tr>\n",
       "  </tbody>\n",
       "</table>\n",
       "</div>"
      ],
      "text/plain": [
       "                name platform  year_of_release     genre  na_sales  eu_sales  \\\n",
       "0         Wii Sports      Wii           2006.0    Sports     41.36     28.96   \n",
       "1  Super Mario Bros.      NES           1985.0  Platform     29.08      3.58   \n",
       "\n",
       "   jp_sales  other_sales  critic_score user_score rating  total_sales  \n",
       "0      3.77         8.45          76.0          8      E        82.54  \n",
       "1      6.81         0.77           NaN        NaN    NaN        40.24  "
      ]
     },
     "execution_count": 9,
     "metadata": {},
     "output_type": "execute_result"
    }
   ],
   "source": [
    "games_data.head(2)"
   ]
  },
  {
   "cell_type": "markdown",
   "metadata": {},
   "source": [
    "#### Изменим типы данных и поработаем с пропусками"
   ]
  },
  {
   "cell_type": "code",
   "execution_count": 10,
   "metadata": {},
   "outputs": [
    {
     "name": "stdout",
     "output_type": "stream",
     "text": [
      "<class 'pandas.core.frame.DataFrame'>\n",
      "RangeIndex: 16715 entries, 0 to 16714\n",
      "Data columns (total 12 columns):\n",
      "name               16713 non-null object\n",
      "platform           16715 non-null object\n",
      "year_of_release    16446 non-null float64\n",
      "genre              16713 non-null object\n",
      "na_sales           16715 non-null float64\n",
      "eu_sales           16715 non-null float64\n",
      "jp_sales           16715 non-null float64\n",
      "other_sales        16715 non-null float64\n",
      "critic_score       8137 non-null float64\n",
      "user_score         10014 non-null object\n",
      "rating             9949 non-null object\n",
      "total_sales        16715 non-null float64\n",
      "dtypes: float64(7), object(5)\n",
      "memory usage: 1.5+ MB\n"
     ]
    },
    {
     "data": {
      "text/plain": [
       "269"
      ]
     },
     "execution_count": 10,
     "metadata": {},
     "output_type": "execute_result"
    }
   ],
   "source": [
    "games_data.info()\n",
    "\n",
    "# year_of_release привёдём к формату int\n",
    "# user_score приведём к формату float\n",
    "\n",
    "games_data['year_of_release'].isna().sum()"
   ]
  },
  {
   "cell_type": "code",
   "execution_count": 11,
   "metadata": {},
   "outputs": [],
   "source": [
    "# Проусщенных значений в годах довольно мало. Заменим значения в них на случайные\n",
    "games_data['year_of_release'] = games_data['year_of_release'].fillna(2110) \\\n",
    "                                                             .astype('int')\n",
    "games_data = games_data[games_data['year_of_release'] != 2110]"
   ]
  },
  {
   "cell_type": "code",
   "execution_count": 12,
   "metadata": {
    "scrolled": true
   },
   "outputs": [
    {
     "data": {
      "text/html": [
       "<div>\n",
       "<style scoped>\n",
       "    .dataframe tbody tr th:only-of-type {\n",
       "        vertical-align: middle;\n",
       "    }\n",
       "\n",
       "    .dataframe tbody tr th {\n",
       "        vertical-align: top;\n",
       "    }\n",
       "\n",
       "    .dataframe thead th {\n",
       "        text-align: right;\n",
       "    }\n",
       "</style>\n",
       "<table border=\"1\" class=\"dataframe\">\n",
       "  <thead>\n",
       "    <tr style=\"text-align: right;\">\n",
       "      <th></th>\n",
       "      <th>name</th>\n",
       "      <th>platform</th>\n",
       "      <th>year_of_release</th>\n",
       "      <th>genre</th>\n",
       "      <th>na_sales</th>\n",
       "      <th>eu_sales</th>\n",
       "      <th>jp_sales</th>\n",
       "      <th>other_sales</th>\n",
       "      <th>critic_score</th>\n",
       "      <th>user_score</th>\n",
       "      <th>rating</th>\n",
       "      <th>total_sales</th>\n",
       "    </tr>\n",
       "  </thead>\n",
       "  <tbody>\n",
       "    <tr>\n",
       "      <td>0</td>\n",
       "      <td>Wii Sports</td>\n",
       "      <td>Wii</td>\n",
       "      <td>2006</td>\n",
       "      <td>Sports</td>\n",
       "      <td>41.36</td>\n",
       "      <td>28.96</td>\n",
       "      <td>3.77</td>\n",
       "      <td>8.45</td>\n",
       "      <td>76.0</td>\n",
       "      <td>8</td>\n",
       "      <td>E</td>\n",
       "      <td>82.54</td>\n",
       "    </tr>\n",
       "  </tbody>\n",
       "</table>\n",
       "</div>"
      ],
      "text/plain": [
       "         name platform  year_of_release   genre  na_sales  eu_sales  jp_sales  \\\n",
       "0  Wii Sports      Wii             2006  Sports     41.36     28.96      3.77   \n",
       "\n",
       "   other_sales  critic_score user_score rating  total_sales  \n",
       "0         8.45          76.0          8      E        82.54  "
      ]
     },
     "execution_count": 12,
     "metadata": {},
     "output_type": "execute_result"
    }
   ],
   "source": [
    "games_data.head(1)"
   ]
  },
  {
   "cell_type": "code",
   "execution_count": 13,
   "metadata": {
    "scrolled": true
   },
   "outputs": [
    {
     "data": {
      "text/plain": [
       "array(['8', nan, '8.3', '8.5', '6.6', '8.4', '8.6', '7.7', '6.3', '7.4',\n",
       "       '8.2', '9', '7.9', '8.1', '8.7', '7.1', '3.4', '5.3', '4.8', '3.2',\n",
       "       '8.9', '6.4', '7.8', '7.5', '2.6', '7.2', '9.2', '7', '7.3', '4.3',\n",
       "       '7.6', '5.7', '5', '9.1', '6.5', 'tbd', '8.8', '6.9', '9.4', '6.8',\n",
       "       '6.1', '6.7', '5.4', '4', '4.9', '4.5', '9.3', '6.2', '4.2', '6',\n",
       "       '3.7', '4.1', '5.8', '5.6', '5.5', '4.4', '4.6', '5.9', '3.9',\n",
       "       '3.1', '2.9', '5.2', '3.3', '4.7', '5.1', '3.5', '2.5', '1.9', '3',\n",
       "       '2.7', '2.2', '2', '9.5', '2.1', '3.6', '2.8', '1.8', '3.8', '0',\n",
       "       '1.6', '9.6', '2.4', '1.7', '1.1', '0.3', '1.5', '0.7', '1.2',\n",
       "       '2.3', '0.5', '1.3', '0.2', '0.6', '1.4', '0.9', '1', '9.7'],\n",
       "      dtype=object)"
      ]
     },
     "execution_count": 13,
     "metadata": {},
     "output_type": "execute_result"
    }
   ],
   "source": [
    "# Посмотрим теперь на столбец user_score\n",
    "games_data['user_score'].unique()\n",
    "\n",
    "# Как видно, есть значение tbd, которое будет мешать привести колонку к формату float\n",
    "# Посмотрим, можно ли от них избавиться"
   ]
  },
  {
   "cell_type": "code",
   "execution_count": 14,
   "metadata": {},
   "outputs": [],
   "source": [
    "games_data[games_data['user_score']=='tbd'].shape[0]\n",
    "# Таких значений довольно много. Заменим их на пустые значения\n",
    "\n",
    "games_data['user_score'] = games_data['user_score'].replace('tbd',np.nan)"
   ]
  },
  {
   "cell_type": "code",
   "execution_count": 15,
   "metadata": {},
   "outputs": [],
   "source": [
    "# Приведём к формату float\n",
    "games_data['user_score'] = games_data['user_score'].astype('float',errors='ignore')"
   ]
  },
  {
   "cell_type": "code",
   "execution_count": 16,
   "metadata": {
    "scrolled": true
   },
   "outputs": [
    {
     "name": "stdout",
     "output_type": "stream",
     "text": [
      "<class 'pandas.core.frame.DataFrame'>\n",
      "Int64Index: 16446 entries, 0 to 16714\n",
      "Data columns (total 12 columns):\n",
      "name               16444 non-null object\n",
      "platform           16446 non-null object\n",
      "year_of_release    16446 non-null int64\n",
      "genre              16444 non-null object\n",
      "na_sales           16446 non-null float64\n",
      "eu_sales           16446 non-null float64\n",
      "jp_sales           16446 non-null float64\n",
      "other_sales        16446 non-null float64\n",
      "critic_score       7983 non-null float64\n",
      "user_score         7463 non-null float64\n",
      "rating             9768 non-null object\n",
      "total_sales        16446 non-null float64\n",
      "dtypes: float64(7), int64(1), object(4)\n",
      "memory usage: 1.6+ MB\n"
     ]
    }
   ],
   "source": [
    "games_data.info()"
   ]
  },
  {
   "cell_type": "code",
   "execution_count": 17,
   "metadata": {
    "scrolled": true
   },
   "outputs": [
    {
     "data": {
      "text/plain": [
       "user_score         8983\n",
       "critic_score       8463\n",
       "rating             6678\n",
       "genre                 2\n",
       "name                  2\n",
       "total_sales           0\n",
       "other_sales           0\n",
       "jp_sales              0\n",
       "eu_sales              0\n",
       "na_sales              0\n",
       "year_of_release       0\n",
       "platform              0\n",
       "dtype: int64"
      ]
     },
     "execution_count": 17,
     "metadata": {},
     "output_type": "execute_result"
    }
   ],
   "source": [
    "# Посмотрим, сколько у нас пропущенных значений\n",
    "\n",
    "games_data.isnull().sum().sort_values(ascending = False)"
   ]
  },
  {
   "cell_type": "markdown",
   "metadata": {},
   "source": [
    "Нужно решить, что делать с пропусками в 4-х столбцах.   \n",
    "*Начнём с user_score. Давайте заполним его числом, но таким, чтобы оно не смешивалось с нулевым рейтингом. Например, отрицательным (-1)*  \n",
    "*critic_score заполним аналогично  \n",
    "Пропуском в рейтинге достаточно много, можем присвоить им отдельную категорию  \n",
    "Пропуски в name и genre можем удалить, так как их всего по два, на данные это сильно не повлияет*  "
   ]
  },
  {
   "cell_type": "code",
   "execution_count": 18,
   "metadata": {},
   "outputs": [],
   "source": [
    "games_data['user_score'] = games_data['user_score'].fillna(-1)\n",
    "games_data['critic_score'] = games_data['critic_score'].fillna(-1)\n",
    "games_data['rating'] = games_data['rating'].fillna('out_of_rating')\n",
    "games_data = games_data.dropna(axis=0)"
   ]
  },
  {
   "cell_type": "code",
   "execution_count": 19,
   "metadata": {
    "scrolled": true
   },
   "outputs": [
    {
     "data": {
      "text/plain": [
       "total_sales        0\n",
       "rating             0\n",
       "user_score         0\n",
       "critic_score       0\n",
       "other_sales        0\n",
       "jp_sales           0\n",
       "eu_sales           0\n",
       "na_sales           0\n",
       "genre              0\n",
       "year_of_release    0\n",
       "platform           0\n",
       "name               0\n",
       "dtype: int64"
      ]
     },
     "execution_count": 19,
     "metadata": {},
     "output_type": "execute_result"
    }
   ],
   "source": [
    "games_data.isnull().sum().sort_values(ascending = False)"
   ]
  },
  {
   "cell_type": "code",
   "execution_count": 20,
   "metadata": {},
   "outputs": [
    {
     "data": {
      "text/html": [
       "<div>\n",
       "<style scoped>\n",
       "    .dataframe tbody tr th:only-of-type {\n",
       "        vertical-align: middle;\n",
       "    }\n",
       "\n",
       "    .dataframe tbody tr th {\n",
       "        vertical-align: top;\n",
       "    }\n",
       "\n",
       "    .dataframe thead th {\n",
       "        text-align: right;\n",
       "    }\n",
       "</style>\n",
       "<table border=\"1\" class=\"dataframe\">\n",
       "  <thead>\n",
       "    <tr style=\"text-align: right;\">\n",
       "      <th></th>\n",
       "      <th>name</th>\n",
       "      <th>platform</th>\n",
       "      <th>year_of_release</th>\n",
       "      <th>genre</th>\n",
       "      <th>na_sales</th>\n",
       "      <th>eu_sales</th>\n",
       "      <th>jp_sales</th>\n",
       "      <th>other_sales</th>\n",
       "      <th>critic_score</th>\n",
       "      <th>user_score</th>\n",
       "      <th>rating</th>\n",
       "      <th>total_sales</th>\n",
       "    </tr>\n",
       "  </thead>\n",
       "  <tbody>\n",
       "    <tr>\n",
       "      <td>0</td>\n",
       "      <td>Wii Sports</td>\n",
       "      <td>Wii</td>\n",
       "      <td>2006</td>\n",
       "      <td>Sports</td>\n",
       "      <td>41.36</td>\n",
       "      <td>28.96</td>\n",
       "      <td>3.77</td>\n",
       "      <td>8.45</td>\n",
       "      <td>76.0</td>\n",
       "      <td>8.0</td>\n",
       "      <td>E</td>\n",
       "      <td>82.54</td>\n",
       "    </tr>\n",
       "    <tr>\n",
       "      <td>1</td>\n",
       "      <td>Super Mario Bros.</td>\n",
       "      <td>NES</td>\n",
       "      <td>1985</td>\n",
       "      <td>Platform</td>\n",
       "      <td>29.08</td>\n",
       "      <td>3.58</td>\n",
       "      <td>6.81</td>\n",
       "      <td>0.77</td>\n",
       "      <td>-1.0</td>\n",
       "      <td>-1.0</td>\n",
       "      <td>out_of_rating</td>\n",
       "      <td>40.24</td>\n",
       "    </tr>\n",
       "    <tr>\n",
       "      <td>2</td>\n",
       "      <td>Mario Kart Wii</td>\n",
       "      <td>Wii</td>\n",
       "      <td>2008</td>\n",
       "      <td>Racing</td>\n",
       "      <td>15.68</td>\n",
       "      <td>12.76</td>\n",
       "      <td>3.79</td>\n",
       "      <td>3.29</td>\n",
       "      <td>82.0</td>\n",
       "      <td>8.3</td>\n",
       "      <td>E</td>\n",
       "      <td>35.52</td>\n",
       "    </tr>\n",
       "    <tr>\n",
       "      <td>3</td>\n",
       "      <td>Wii Sports Resort</td>\n",
       "      <td>Wii</td>\n",
       "      <td>2009</td>\n",
       "      <td>Sports</td>\n",
       "      <td>15.61</td>\n",
       "      <td>10.93</td>\n",
       "      <td>3.28</td>\n",
       "      <td>2.95</td>\n",
       "      <td>80.0</td>\n",
       "      <td>8.0</td>\n",
       "      <td>E</td>\n",
       "      <td>32.77</td>\n",
       "    </tr>\n",
       "    <tr>\n",
       "      <td>4</td>\n",
       "      <td>Pokemon Red/Pokemon Blue</td>\n",
       "      <td>GB</td>\n",
       "      <td>1996</td>\n",
       "      <td>Role-Playing</td>\n",
       "      <td>11.27</td>\n",
       "      <td>8.89</td>\n",
       "      <td>10.22</td>\n",
       "      <td>1.00</td>\n",
       "      <td>-1.0</td>\n",
       "      <td>-1.0</td>\n",
       "      <td>out_of_rating</td>\n",
       "      <td>31.38</td>\n",
       "    </tr>\n",
       "  </tbody>\n",
       "</table>\n",
       "</div>"
      ],
      "text/plain": [
       "                       name platform  year_of_release         genre  na_sales  \\\n",
       "0                Wii Sports      Wii             2006        Sports     41.36   \n",
       "1         Super Mario Bros.      NES             1985      Platform     29.08   \n",
       "2            Mario Kart Wii      Wii             2008        Racing     15.68   \n",
       "3         Wii Sports Resort      Wii             2009        Sports     15.61   \n",
       "4  Pokemon Red/Pokemon Blue       GB             1996  Role-Playing     11.27   \n",
       "\n",
       "   eu_sales  jp_sales  other_sales  critic_score  user_score         rating  \\\n",
       "0     28.96      3.77         8.45          76.0         8.0              E   \n",
       "1      3.58      6.81         0.77          -1.0        -1.0  out_of_rating   \n",
       "2     12.76      3.79         3.29          82.0         8.3              E   \n",
       "3     10.93      3.28         2.95          80.0         8.0              E   \n",
       "4      8.89     10.22         1.00          -1.0        -1.0  out_of_rating   \n",
       "\n",
       "   total_sales  \n",
       "0        82.54  \n",
       "1        40.24  \n",
       "2        35.52  \n",
       "3        32.77  \n",
       "4        31.38  "
      ]
     },
     "execution_count": 20,
     "metadata": {},
     "output_type": "execute_result"
    }
   ],
   "source": [
    "games_data.head(5)"
   ]
  },
  {
   "cell_type": "markdown",
   "metadata": {},
   "source": [
    "### Шаг 4. Проведите исследовательский анализ данных"
   ]
  },
  {
   "cell_type": "markdown",
   "metadata": {},
   "source": [
    "#### Посмотрим сколько игр выпускалось в разные годы"
   ]
  },
  {
   "cell_type": "code",
   "execution_count": 21,
   "metadata": {
    "scrolled": false
   },
   "outputs": [
    {
     "data": {
      "image/png": "[encoded data removed]",
      "text/plain": [
       "<Figure size 720x576 with 1 Axes>"
      ]
     },
     "metadata": {
      "needs_background": "light"
     },
     "output_type": "display_data"
    }
   ],
   "source": [
    "games_data[games_data['year_of_release']!=2110].groupby('year_of_release') \\\n",
    "          .agg({'name':'count'}) \\\n",
    "          .plot(kind='bar', \n",
    "                figsize=(10,8),\n",
    "                grid=True, \n",
    "                color='k')\n",
    "plt.title('Релиз игр по годам')\n",
    "plt.ylabel('Количество игр')\n",
    "plt.legend('Games')\n",
    "plt.xlabel('Год');"
   ]
  },
  {
   "cell_type": "markdown",
   "metadata": {},
   "source": [
    "Выводы:  \n",
    "до 1993 года игры не получали широково распространения в виду того, что платформеры являлись инструментом роскоши, плюс, не было достаточно специалистов для создания игр, а само создание было ограничено слабыми мощностями платформ.  \n",
    "После 2009 индустрия уходит на спад, становится всё меньше игр.  \n",
    "На мой взгляд связано это с кризисом 2008, что сказалось на производстве всех товаров, не только игр.  "
   ]
  },
  {
   "cell_type": "markdown",
   "metadata": {},
   "source": [
    "Нам наверняка не важны данные до 1993 года. Во-первых, потому что игр выпускалось достаточно мало.  \n",
    "Из-за этого любая выпущенная игра могла стать успешной. Плюс ко всему, по ним нельзя будет делать   \n",
    "реперезентативные статистические выводы."
   ]
  },
  {
   "cell_type": "markdown",
   "metadata": {},
   "source": [
    "#### Посмотрим, как менялись продажи по платформам. \n",
    "Выберем платформы с наибольшими суммарными продажами и построим распределение по годам."
   ]
  },
  {
   "cell_type": "code",
   "execution_count": 22,
   "metadata": {
    "scrolled": false
   },
   "outputs": [
    {
     "data": {
      "text/html": [
       "<div>\n",
       "<style scoped>\n",
       "    .dataframe tbody tr th:only-of-type {\n",
       "        vertical-align: middle;\n",
       "    }\n",
       "\n",
       "    .dataframe tbody tr th {\n",
       "        vertical-align: top;\n",
       "    }\n",
       "\n",
       "    .dataframe thead th {\n",
       "        text-align: right;\n",
       "    }\n",
       "</style>\n",
       "<table border=\"1\" class=\"dataframe\">\n",
       "  <thead>\n",
       "    <tr style=\"text-align: right;\">\n",
       "      <th></th>\n",
       "      <th>platform</th>\n",
       "      <th>year_of_release</th>\n",
       "      <th>total_sales</th>\n",
       "    </tr>\n",
       "  </thead>\n",
       "  <tbody>\n",
       "    <tr>\n",
       "      <td>134</td>\n",
       "      <td>PS2</td>\n",
       "      <td>2004</td>\n",
       "      <td>211.81</td>\n",
       "    </tr>\n",
       "    <tr>\n",
       "      <td>200</td>\n",
       "      <td>Wii</td>\n",
       "      <td>2009</td>\n",
       "      <td>206.97</td>\n",
       "    </tr>\n",
       "    <tr>\n",
       "      <td>132</td>\n",
       "      <td>PS2</td>\n",
       "      <td>2002</td>\n",
       "      <td>205.38</td>\n",
       "    </tr>\n",
       "    <tr>\n",
       "      <td>133</td>\n",
       "      <td>PS2</td>\n",
       "      <td>2003</td>\n",
       "      <td>184.31</td>\n",
       "    </tr>\n",
       "    <tr>\n",
       "      <td>199</td>\n",
       "      <td>Wii</td>\n",
       "      <td>2008</td>\n",
       "      <td>171.32</td>\n",
       "    </tr>\n",
       "    <tr>\n",
       "      <td>...</td>\n",
       "      <td>...</td>\n",
       "      <td>...</td>\n",
       "      <td>...</td>\n",
       "    </tr>\n",
       "    <tr>\n",
       "      <td>94</td>\n",
       "      <td>PC</td>\n",
       "      <td>1988</td>\n",
       "      <td>0.03</td>\n",
       "    </tr>\n",
       "    <tr>\n",
       "      <td>119</td>\n",
       "      <td>PCFX</td>\n",
       "      <td>1996</td>\n",
       "      <td>0.03</td>\n",
       "    </tr>\n",
       "    <tr>\n",
       "      <td>23</td>\n",
       "      <td>DC</td>\n",
       "      <td>2007</td>\n",
       "      <td>0.02</td>\n",
       "    </tr>\n",
       "    <tr>\n",
       "      <td>10</td>\n",
       "      <td>3DO</td>\n",
       "      <td>1994</td>\n",
       "      <td>0.02</td>\n",
       "    </tr>\n",
       "    <tr>\n",
       "      <td>25</td>\n",
       "      <td>DS</td>\n",
       "      <td>1985</td>\n",
       "      <td>0.02</td>\n",
       "    </tr>\n",
       "  </tbody>\n",
       "</table>\n",
       "<p>238 rows × 3 columns</p>\n",
       "</div>"
      ],
      "text/plain": [
       "    platform  year_of_release  total_sales\n",
       "134      PS2             2004       211.81\n",
       "200      Wii             2009       206.97\n",
       "132      PS2             2002       205.38\n",
       "133      PS2             2003       184.31\n",
       "199      Wii             2008       171.32\n",
       "..       ...              ...          ...\n",
       "94        PC             1988         0.03\n",
       "119     PCFX             1996         0.03\n",
       "23        DC             2007         0.02\n",
       "10       3DO             1994         0.02\n",
       "25        DS             1985         0.02\n",
       "\n",
       "[238 rows x 3 columns]"
      ]
     },
     "execution_count": 22,
     "metadata": {},
     "output_type": "execute_result"
    }
   ],
   "source": [
    "platforms = games_data.groupby(by=['platform','year_of_release'],as_index=False)['total_sales'] \\\n",
    "                            .sum() \\\n",
    "                            .sort_values('total_sales',ascending=False)\n",
    "platforms"
   ]
  },
  {
   "cell_type": "code",
   "execution_count": 25,
   "metadata": {},
   "outputs": [
    {
     "data": {
      "text/plain": [
       "array(['PS2', 'Wii', 'X360', 'PS', 'PS3', 'DS', 'PS4', 'GBA', 'XB', 'GB',\n",
       "       '3DS', 'XOne', 'N64', 'PSP', 'NES', 'GC', 'SNES', '2600', 'PC',\n",
       "       'WiiU', 'PSV', 'GEN', 'SAT', 'DC', 'SCD', 'NG', 'WS', 'TG16',\n",
       "       '3DO', 'GG', 'PCFX'], dtype=object)"
      ]
     },
     "execution_count": 25,
     "metadata": {},
     "output_type": "execute_result"
    }
   ],
   "source": [
    "# Найдём число уникальных платформ\n",
    "platforms['platform'].unique() "
   ]
  },
  {
   "cell_type": "markdown",
   "metadata": {},
   "source": [
    "Теперь узнаем, какие платформы имеют нулевые продажи к 2016 году.  \n",
    "Такими являются все, кроме:   \n",
    "• XBOX360  \n",
    "• PS3  \n",
    "• Wii  \n",
    "• PSV  \n",
    "• 3DS  \n",
    "• WiiU  \n",
    "• PS4  \n",
    "• XOne   \n",
    "• PC  \n",
    "• *PSP, но их продажи заканчиваются в 2015, возможно есть надежда, что она вдохнёт новой жизнью, как это было с Nes в 1987*"
   ]
  },
  {
   "cell_type": "markdown",
   "metadata": {},
   "source": [
    "Теперь время посчитать, с какой периодичностью появляются новые и исчезают старые платформы. Для этого найдём среднюю частоту появления платформ одного производителя для разных производителей и посчитаем их общее среднее. *На мой взгляд, не следует обобщать выход игровых платформ всех производителей, потому что даже если выйдет условная PS5, игры для последней Xbox всё ещё будут актуальны для тех, у кого есть Xbox. Продажи не перетекут из одного в другое.* "
   ]
  },
  {
   "cell_type": "markdown",
   "metadata": {},
   "source": [
    "##### Частота обновления игровых платформ\n",
    "Раз уж у нас на высоте сейчас приставки серии Playstation, Xbox и Nintendo, то нет особо смысла смотреть на частоту тренда остальных.  \n",
    "   \n",
    "• Playstation (приставки) - 1994 (PS), 2000 (PS2), 2006 (PS3), 2013 (PS4)    \n",
    "Mu = 6+6+7 ~ 6 лет   \n",
    "  \n",
    "• Playstation (портативные консоли) - 2004 (PSP), 2011 (PSV) - Данных мало, нет закономерности\n",
    "\n",
    "• Xbox - 2000 (XB), 2005 (Xbox360), 2013 (XOne)  \n",
    "Mu = ~ 7 лет\n",
    "  \n",
    "• Nintendo (игровые устройства) -  1985 (NES), 1990 (SNES), 1996 (Nintendo 64), 2001 (GameCube), 2006 (Wii), 2012 (WiiU)  \n",
    "Mu = ~5 лет\n",
    "  \n",
    "• Nintendo (портативные консоли) -  1985 (DS), GB (1988), 3DS (2011) - Данных мало, нет закономерности\n",
    "  \n",
    "Итого: средняя частота выхода игровых платформ ~ 6 лет"
   ]
  },
  {
   "cell_type": "markdown",
   "metadata": {},
   "source": [
    "Подсчитаем средний срок жизни всех платформы:  \n",
    "PSP - 2015-2004 = 11  \n",
    "GC - 2007 - 2001 = 6  \n",
    "XB - 2008 - 2000 = 8  \n",
    "PS2 - 2011 - 2000 = 11  \n",
    "DC - 2008 - 1998 = 10  \n",
    "GBA - 2007 - 2000 = 7  \n",
    "WS - 2001-1999 = 3  \n",
    "N64 - 6  \n",
    "3DO - 1  \n",
    "PS - 11  \n",
    "SAT - 5  \n",
    "SCD - 1  \n",
    "NG -3  \n",
    "SNES - 9  \n",
    "GEN - 4  \n",
    "GB - 3  \n",
    "PC - 31  \n",
    "DS - 28  \n",
    "NES - 11  \n",
    "2600 - 9  "
   ]
  },
  {
   "cell_type": "code",
   "execution_count": 26,
   "metadata": {},
   "outputs": [
    {
     "name": "stdout",
     "output_type": "stream",
     "text": [
      "Срднее равно: 8.9\n",
      "Медиана равна: 7.5\n",
      "Дисперсия равна: 58.09000000000001\n",
      "Стандартное отклонение равно: 7.621679604916491\n"
     ]
    }
   ],
   "source": [
    "platform_life = [11,6,8,11,10,7,3,6,1,11,5,1,3,9,4,3,31,28,11,9]\n",
    "platform_life = pd.Series(platform_life)\n",
    "print(f'Срднее равно: {platform_life.mean()}')\n",
    "print(f'Медиана равна: {platform_life.median()}')\n",
    "print(f'Дисперсия равна: {np.var(platform_life)}')\n",
    "print(f'Стандартное отклонение равно: {math.sqrt(np.var(platform_life))}')"
   ]
  },
  {
   "cell_type": "markdown",
   "metadata": {},
   "source": [
    "<b>Выводы по срокам жизни</b>  \n",
    "Исходя из того, что есть значительные выбросы в обе стороны (1 год и 31 год), то медиану рассматривать более реперзентативно. Видно, что медианный срок жизни платформы - это 7,5 лет  \n",
    "Значит платформа живёт в среднем полтора года после того, как появляется новая версия"
   ]
  },
  {
   "cell_type": "markdown",
   "metadata": {},
   "source": [
    "#### Чтобы избежать искажения, давайте возьмём данные не за весь период, а с определённым срезом  \n",
    "Как я писал ранее, основное развитие игровой индустрии, появление разнообразия игр, оценок критиков и геймеров началось после 1997 года. Тогда, на рынке было много игр, и покупались по-настоящему успешные. Плюс ко всему, продажи игр до 2000 года можно объяснить их уникальностью, что я определил как критерий успеха. Поэтому давайте сделаем срез по 2000 году"
   ]
  },
  {
   "cell_type": "code",
   "execution_count": 27,
   "metadata": {},
   "outputs": [
    {
     "data": {
      "text/plain": [
       "name               0\n",
       "platform           0\n",
       "year_of_release    0\n",
       "genre              0\n",
       "na_sales           0\n",
       "eu_sales           0\n",
       "jp_sales           0\n",
       "other_sales        0\n",
       "critic_score       0\n",
       "user_score         0\n",
       "rating             0\n",
       "total_sales        0\n",
       "dtype: int64"
      ]
     },
     "execution_count": 27,
     "metadata": {},
     "output_type": "execute_result"
    }
   ],
   "source": [
    "games_data = games_data[games_data['year_of_release']>2000]\n",
    "games_data.isna().sum()"
   ]
  },
  {
   "cell_type": "markdown",
   "metadata": {},
   "source": [
    "#### Выберем потенциально прибыльные платформы\n",
    "*Топ по продажам в 2016 (однако все они сейчас падают):*  \n",
    "1) PS4 (69,25) - падение < 50%, началось лишь в 2015, следующая консоль поколения выйдет примерно через 3-4 года.  \n",
    "2) XOne (26,15) - падение сильное (>50%), началось лишь в 2015, но следующая консоль поколения выйдет примерно через 3-4 года.   \n",
    "3) 3DS (15,14) - падает с 2013, с прошлого года практически на 50%      \n",
    "4) PC (5,25) - падение относительно не сильное. Платформа на плаву с 1985 года, ранее бывали резкие скачки.   \n",
    "5) WiiU (4,6) - начала падать с 2014; с 2015 упала более чем на 50%    \n",
    "6) PSV (4,25) - падение с 2014; в 2015 стало не столь стремительным; бывали периоды взлёта.  \n",
    "7) PS3 (3,6) - падает с момента выхода PS4, был небольшой подъем, с каждым годом падение корректируется      \n",
    "8) Xbox 360 (1,52) - падение с 2010, но с каждым годом уменьшалось. Был резкий взлёт    \n",
    "9) Wii (0,18) - падение началось в 2009; сейчас падение минимальное \n",
    "  "
   ]
  },
  {
   "cell_type": "markdown",
   "metadata": {},
   "source": [
    "Исходя из данных выше, считаю нужным на всю котлету вложиться в PS4 и XOne из-за самой высокой капитализации продажи игр; PC за счёт хорошего тренда PSV за счёт неплохих показателей"
   ]
  },
  {
   "cell_type": "markdown",
   "metadata": {},
   "source": [
    "#### Построим график «ящик с усами» по глобальным продажам каждой игры и разбивкой по платформам. \n",
    "  \n",
    "Опишем результаты"
   ]
  },
  {
   "cell_type": "code",
   "execution_count": 28,
   "metadata": {
    "scrolled": false
   },
   "outputs": [
    {
     "data": {
      "text/html": [
       "<div>\n",
       "<style scoped>\n",
       "    .dataframe tbody tr th:only-of-type {\n",
       "        vertical-align: middle;\n",
       "    }\n",
       "\n",
       "    .dataframe tbody tr th {\n",
       "        vertical-align: top;\n",
       "    }\n",
       "\n",
       "    .dataframe thead th {\n",
       "        text-align: right;\n",
       "    }\n",
       "</style>\n",
       "<table border=\"1\" class=\"dataframe\">\n",
       "  <thead>\n",
       "    <tr style=\"text-align: right;\">\n",
       "      <th>platform</th>\n",
       "      <th>3DS</th>\n",
       "      <th>DC</th>\n",
       "      <th>DS</th>\n",
       "      <th>GB</th>\n",
       "      <th>GBA</th>\n",
       "      <th>GC</th>\n",
       "      <th>N64</th>\n",
       "      <th>PC</th>\n",
       "      <th>PS</th>\n",
       "      <th>PS2</th>\n",
       "      <th>PS3</th>\n",
       "      <th>PS4</th>\n",
       "      <th>PSP</th>\n",
       "      <th>PSV</th>\n",
       "      <th>WS</th>\n",
       "      <th>Wii</th>\n",
       "      <th>WiiU</th>\n",
       "      <th>X360</th>\n",
       "      <th>XB</th>\n",
       "      <th>XOne</th>\n",
       "    </tr>\n",
       "    <tr>\n",
       "      <th>name</th>\n",
       "      <th></th>\n",
       "      <th></th>\n",
       "      <th></th>\n",
       "      <th></th>\n",
       "      <th></th>\n",
       "      <th></th>\n",
       "      <th></th>\n",
       "      <th></th>\n",
       "      <th></th>\n",
       "      <th></th>\n",
       "      <th></th>\n",
       "      <th></th>\n",
       "      <th></th>\n",
       "      <th></th>\n",
       "      <th></th>\n",
       "      <th></th>\n",
       "      <th></th>\n",
       "      <th></th>\n",
       "      <th></th>\n",
       "      <th></th>\n",
       "    </tr>\n",
       "  </thead>\n",
       "  <tbody>\n",
       "    <tr>\n",
       "      <td>Beyblade Burst</td>\n",
       "      <td>0.03</td>\n",
       "      <td>NaN</td>\n",
       "      <td>NaN</td>\n",
       "      <td>NaN</td>\n",
       "      <td>NaN</td>\n",
       "      <td>NaN</td>\n",
       "      <td>NaN</td>\n",
       "      <td>NaN</td>\n",
       "      <td>NaN</td>\n",
       "      <td>NaN</td>\n",
       "      <td>NaN</td>\n",
       "      <td>NaN</td>\n",
       "      <td>NaN</td>\n",
       "      <td>NaN</td>\n",
       "      <td>NaN</td>\n",
       "      <td>NaN</td>\n",
       "      <td>NaN</td>\n",
       "      <td>NaN</td>\n",
       "      <td>NaN</td>\n",
       "      <td>NaN</td>\n",
       "    </tr>\n",
       "    <tr>\n",
       "      <td>Fire Emblem Fates</td>\n",
       "      <td>1.67</td>\n",
       "      <td>NaN</td>\n",
       "      <td>NaN</td>\n",
       "      <td>NaN</td>\n",
       "      <td>NaN</td>\n",
       "      <td>NaN</td>\n",
       "      <td>NaN</td>\n",
       "      <td>NaN</td>\n",
       "      <td>NaN</td>\n",
       "      <td>NaN</td>\n",
       "      <td>NaN</td>\n",
       "      <td>NaN</td>\n",
       "      <td>NaN</td>\n",
       "      <td>NaN</td>\n",
       "      <td>NaN</td>\n",
       "      <td>NaN</td>\n",
       "      <td>NaN</td>\n",
       "      <td>NaN</td>\n",
       "      <td>NaN</td>\n",
       "      <td>NaN</td>\n",
       "    </tr>\n",
       "    <tr>\n",
       "      <td>Frozen: Olaf's Quest</td>\n",
       "      <td>0.59</td>\n",
       "      <td>NaN</td>\n",
       "      <td>0.51</td>\n",
       "      <td>NaN</td>\n",
       "      <td>NaN</td>\n",
       "      <td>NaN</td>\n",
       "      <td>NaN</td>\n",
       "      <td>NaN</td>\n",
       "      <td>NaN</td>\n",
       "      <td>NaN</td>\n",
       "      <td>NaN</td>\n",
       "      <td>NaN</td>\n",
       "      <td>NaN</td>\n",
       "      <td>NaN</td>\n",
       "      <td>NaN</td>\n",
       "      <td>NaN</td>\n",
       "      <td>NaN</td>\n",
       "      <td>NaN</td>\n",
       "      <td>NaN</td>\n",
       "      <td>NaN</td>\n",
       "    </tr>\n",
       "    <tr>\n",
       "      <td>Haikyu!! Cross Team Match!</td>\n",
       "      <td>0.04</td>\n",
       "      <td>NaN</td>\n",
       "      <td>NaN</td>\n",
       "      <td>NaN</td>\n",
       "      <td>NaN</td>\n",
       "      <td>NaN</td>\n",
       "      <td>NaN</td>\n",
       "      <td>NaN</td>\n",
       "      <td>NaN</td>\n",
       "      <td>NaN</td>\n",
       "      <td>NaN</td>\n",
       "      <td>NaN</td>\n",
       "      <td>NaN</td>\n",
       "      <td>NaN</td>\n",
       "      <td>NaN</td>\n",
       "      <td>NaN</td>\n",
       "      <td>NaN</td>\n",
       "      <td>NaN</td>\n",
       "      <td>NaN</td>\n",
       "      <td>NaN</td>\n",
       "    </tr>\n",
       "    <tr>\n",
       "      <td>Tales of Xillia 2</td>\n",
       "      <td>NaN</td>\n",
       "      <td>NaN</td>\n",
       "      <td>NaN</td>\n",
       "      <td>NaN</td>\n",
       "      <td>NaN</td>\n",
       "      <td>NaN</td>\n",
       "      <td>NaN</td>\n",
       "      <td>NaN</td>\n",
       "      <td>NaN</td>\n",
       "      <td>NaN</td>\n",
       "      <td>0.84</td>\n",
       "      <td>NaN</td>\n",
       "      <td>NaN</td>\n",
       "      <td>NaN</td>\n",
       "      <td>NaN</td>\n",
       "      <td>NaN</td>\n",
       "      <td>NaN</td>\n",
       "      <td>NaN</td>\n",
       "      <td>NaN</td>\n",
       "      <td>NaN</td>\n",
       "    </tr>\n",
       "    <tr>\n",
       "      <td>...</td>\n",
       "      <td>...</td>\n",
       "      <td>...</td>\n",
       "      <td>...</td>\n",
       "      <td>...</td>\n",
       "      <td>...</td>\n",
       "      <td>...</td>\n",
       "      <td>...</td>\n",
       "      <td>...</td>\n",
       "      <td>...</td>\n",
       "      <td>...</td>\n",
       "      <td>...</td>\n",
       "      <td>...</td>\n",
       "      <td>...</td>\n",
       "      <td>...</td>\n",
       "      <td>...</td>\n",
       "      <td>...</td>\n",
       "      <td>...</td>\n",
       "      <td>...</td>\n",
       "      <td>...</td>\n",
       "      <td>...</td>\n",
       "    </tr>\n",
       "    <tr>\n",
       "      <td>thinkSMART FAMILY!</td>\n",
       "      <td>NaN</td>\n",
       "      <td>NaN</td>\n",
       "      <td>NaN</td>\n",
       "      <td>NaN</td>\n",
       "      <td>NaN</td>\n",
       "      <td>NaN</td>\n",
       "      <td>NaN</td>\n",
       "      <td>NaN</td>\n",
       "      <td>NaN</td>\n",
       "      <td>NaN</td>\n",
       "      <td>NaN</td>\n",
       "      <td>NaN</td>\n",
       "      <td>NaN</td>\n",
       "      <td>NaN</td>\n",
       "      <td>NaN</td>\n",
       "      <td>0.03</td>\n",
       "      <td>NaN</td>\n",
       "      <td>NaN</td>\n",
       "      <td>NaN</td>\n",
       "      <td>NaN</td>\n",
       "    </tr>\n",
       "    <tr>\n",
       "      <td>thinkSMART: Chess for Kids</td>\n",
       "      <td>NaN</td>\n",
       "      <td>NaN</td>\n",
       "      <td>0.01</td>\n",
       "      <td>NaN</td>\n",
       "      <td>NaN</td>\n",
       "      <td>NaN</td>\n",
       "      <td>NaN</td>\n",
       "      <td>NaN</td>\n",
       "      <td>NaN</td>\n",
       "      <td>NaN</td>\n",
       "      <td>NaN</td>\n",
       "      <td>NaN</td>\n",
       "      <td>NaN</td>\n",
       "      <td>NaN</td>\n",
       "      <td>NaN</td>\n",
       "      <td>NaN</td>\n",
       "      <td>NaN</td>\n",
       "      <td>NaN</td>\n",
       "      <td>NaN</td>\n",
       "      <td>NaN</td>\n",
       "    </tr>\n",
       "    <tr>\n",
       "      <td>uDraw Studio</td>\n",
       "      <td>NaN</td>\n",
       "      <td>NaN</td>\n",
       "      <td>NaN</td>\n",
       "      <td>NaN</td>\n",
       "      <td>NaN</td>\n",
       "      <td>NaN</td>\n",
       "      <td>NaN</td>\n",
       "      <td>NaN</td>\n",
       "      <td>NaN</td>\n",
       "      <td>NaN</td>\n",
       "      <td>NaN</td>\n",
       "      <td>NaN</td>\n",
       "      <td>NaN</td>\n",
       "      <td>NaN</td>\n",
       "      <td>NaN</td>\n",
       "      <td>2.42</td>\n",
       "      <td>NaN</td>\n",
       "      <td>NaN</td>\n",
       "      <td>NaN</td>\n",
       "      <td>NaN</td>\n",
       "    </tr>\n",
       "    <tr>\n",
       "      <td>uDraw Studio: Instant Artist</td>\n",
       "      <td>NaN</td>\n",
       "      <td>NaN</td>\n",
       "      <td>NaN</td>\n",
       "      <td>NaN</td>\n",
       "      <td>NaN</td>\n",
       "      <td>NaN</td>\n",
       "      <td>NaN</td>\n",
       "      <td>NaN</td>\n",
       "      <td>NaN</td>\n",
       "      <td>NaN</td>\n",
       "      <td>NaN</td>\n",
       "      <td>NaN</td>\n",
       "      <td>NaN</td>\n",
       "      <td>NaN</td>\n",
       "      <td>NaN</td>\n",
       "      <td>0.17</td>\n",
       "      <td>NaN</td>\n",
       "      <td>0.02</td>\n",
       "      <td>NaN</td>\n",
       "      <td>NaN</td>\n",
       "    </tr>\n",
       "    <tr>\n",
       "      <td>¡Shin Chan Flipa en colores!</td>\n",
       "      <td>NaN</td>\n",
       "      <td>NaN</td>\n",
       "      <td>0.14</td>\n",
       "      <td>NaN</td>\n",
       "      <td>NaN</td>\n",
       "      <td>NaN</td>\n",
       "      <td>NaN</td>\n",
       "      <td>NaN</td>\n",
       "      <td>NaN</td>\n",
       "      <td>NaN</td>\n",
       "      <td>NaN</td>\n",
       "      <td>NaN</td>\n",
       "      <td>NaN</td>\n",
       "      <td>NaN</td>\n",
       "      <td>NaN</td>\n",
       "      <td>NaN</td>\n",
       "      <td>NaN</td>\n",
       "      <td>NaN</td>\n",
       "      <td>NaN</td>\n",
       "      <td>NaN</td>\n",
       "    </tr>\n",
       "  </tbody>\n",
       "</table>\n",
       "<p>9405 rows × 20 columns</p>\n",
       "</div>"
      ],
      "text/plain": [
       "platform                       3DS  DC    DS  GB  GBA  GC  N64  PC  PS  PS2  \\\n",
       "name                                                                          \n",
       " Beyblade Burst               0.03 NaN   NaN NaN  NaN NaN  NaN NaN NaN  NaN   \n",
       " Fire Emblem Fates            1.67 NaN   NaN NaN  NaN NaN  NaN NaN NaN  NaN   \n",
       " Frozen: Olaf's Quest         0.59 NaN  0.51 NaN  NaN NaN  NaN NaN NaN  NaN   \n",
       " Haikyu!! Cross Team Match!   0.04 NaN   NaN NaN  NaN NaN  NaN NaN NaN  NaN   \n",
       " Tales of Xillia 2             NaN NaN   NaN NaN  NaN NaN  NaN NaN NaN  NaN   \n",
       "...                            ...  ..   ...  ..  ...  ..  ...  ..  ..  ...   \n",
       "thinkSMART FAMILY!             NaN NaN   NaN NaN  NaN NaN  NaN NaN NaN  NaN   \n",
       "thinkSMART: Chess for Kids     NaN NaN  0.01 NaN  NaN NaN  NaN NaN NaN  NaN   \n",
       "uDraw Studio                   NaN NaN   NaN NaN  NaN NaN  NaN NaN NaN  NaN   \n",
       "uDraw Studio: Instant Artist   NaN NaN   NaN NaN  NaN NaN  NaN NaN NaN  NaN   \n",
       "¡Shin Chan Flipa en colores!   NaN NaN  0.14 NaN  NaN NaN  NaN NaN NaN  NaN   \n",
       "\n",
       "platform                       PS3  PS4  PSP  PSV  WS   Wii  WiiU  X360  XB  \\\n",
       "name                                                                          \n",
       " Beyblade Burst                NaN  NaN  NaN  NaN NaN   NaN   NaN   NaN NaN   \n",
       " Fire Emblem Fates             NaN  NaN  NaN  NaN NaN   NaN   NaN   NaN NaN   \n",
       " Frozen: Olaf's Quest          NaN  NaN  NaN  NaN NaN   NaN   NaN   NaN NaN   \n",
       " Haikyu!! Cross Team Match!    NaN  NaN  NaN  NaN NaN   NaN   NaN   NaN NaN   \n",
       " Tales of Xillia 2            0.84  NaN  NaN  NaN NaN   NaN   NaN   NaN NaN   \n",
       "...                            ...  ...  ...  ...  ..   ...   ...   ...  ..   \n",
       "thinkSMART FAMILY!             NaN  NaN  NaN  NaN NaN  0.03   NaN   NaN NaN   \n",
       "thinkSMART: Chess for Kids     NaN  NaN  NaN  NaN NaN   NaN   NaN   NaN NaN   \n",
       "uDraw Studio                   NaN  NaN  NaN  NaN NaN  2.42   NaN   NaN NaN   \n",
       "uDraw Studio: Instant Artist   NaN  NaN  NaN  NaN NaN  0.17   NaN  0.02 NaN   \n",
       "¡Shin Chan Flipa en colores!   NaN  NaN  NaN  NaN NaN   NaN   NaN   NaN NaN   \n",
       "\n",
       "platform                      XOne  \n",
       "name                                \n",
       " Beyblade Burst                NaN  \n",
       " Fire Emblem Fates             NaN  \n",
       " Frozen: Olaf's Quest          NaN  \n",
       " Haikyu!! Cross Team Match!    NaN  \n",
       " Tales of Xillia 2             NaN  \n",
       "...                            ...  \n",
       "thinkSMART FAMILY!             NaN  \n",
       "thinkSMART: Chess for Kids     NaN  \n",
       "uDraw Studio                   NaN  \n",
       "uDraw Studio: Instant Artist   NaN  \n",
       "¡Shin Chan Flipa en colores!   NaN  \n",
       "\n",
       "[9405 rows x 20 columns]"
      ]
     },
     "execution_count": 28,
     "metadata": {},
     "output_type": "execute_result"
    }
   ],
   "source": [
    "pivot_games_data = games_data.pivot_table(index='name',\n",
    "                       columns='platform',\n",
    "                       values='total_sales',\n",
    "                       aggfunc='sum')\n",
    "\n",
    "pivot_games_data"
   ]
  },
  {
   "cell_type": "code",
   "execution_count": 30,
   "metadata": {},
   "outputs": [
    {
     "data": {
      "text/html": [
       "<div>\n",
       "<style scoped>\n",
       "    .dataframe tbody tr th:only-of-type {\n",
       "        vertical-align: middle;\n",
       "    }\n",
       "\n",
       "    .dataframe tbody tr th {\n",
       "        vertical-align: top;\n",
       "    }\n",
       "\n",
       "    .dataframe thead th {\n",
       "        text-align: right;\n",
       "    }\n",
       "</style>\n",
       "<table border=\"1\" class=\"dataframe\">\n",
       "  <thead>\n",
       "    <tr style=\"text-align: right;\">\n",
       "      <th>platform</th>\n",
       "      <th>3DS</th>\n",
       "      <th>DC</th>\n",
       "      <th>DS</th>\n",
       "      <th>GB</th>\n",
       "      <th>GBA</th>\n",
       "      <th>GC</th>\n",
       "      <th>N64</th>\n",
       "      <th>PC</th>\n",
       "      <th>PS</th>\n",
       "      <th>PS2</th>\n",
       "      <th>PS3</th>\n",
       "      <th>PS4</th>\n",
       "      <th>PSP</th>\n",
       "      <th>PSV</th>\n",
       "      <th>WS</th>\n",
       "      <th>Wii</th>\n",
       "      <th>WiiU</th>\n",
       "      <th>X360</th>\n",
       "      <th>XB</th>\n",
       "      <th>XOne</th>\n",
       "    </tr>\n",
       "  </thead>\n",
       "  <tbody>\n",
       "    <tr>\n",
       "      <td>count</td>\n",
       "      <td>512.000000</td>\n",
       "      <td>11.000000</td>\n",
       "      <td>2120.000000</td>\n",
       "      <td>10.000000</td>\n",
       "      <td>810.000000</td>\n",
       "      <td>542.000000</td>\n",
       "      <td>10.000000</td>\n",
       "      <td>909.000000</td>\n",
       "      <td>114.000000</td>\n",
       "      <td>2045.000000</td>\n",
       "      <td>1305.000000</td>\n",
       "      <td>392.000000</td>\n",
       "      <td>1193.000000</td>\n",
       "      <td>429.000000</td>\n",
       "      <td>2.000000</td>\n",
       "      <td>1286.000000</td>\n",
       "      <td>147.000000</td>\n",
       "      <td>1231.000000</td>\n",
       "      <td>802.000000</td>\n",
       "      <td>247.000000</td>\n",
       "    </tr>\n",
       "    <tr>\n",
       "      <td>mean</td>\n",
       "      <td>0.503535</td>\n",
       "      <td>0.129091</td>\n",
       "      <td>0.378660</td>\n",
       "      <td>0.924000</td>\n",
       "      <td>0.386185</td>\n",
       "      <td>0.362970</td>\n",
       "      <td>0.333000</td>\n",
       "      <td>0.221188</td>\n",
       "      <td>0.388860</td>\n",
       "      <td>0.584054</td>\n",
       "      <td>0.713670</td>\n",
       "      <td>0.801378</td>\n",
       "      <td>0.242691</td>\n",
       "      <td>0.125431</td>\n",
       "      <td>0.140000</td>\n",
       "      <td>0.692986</td>\n",
       "      <td>0.559116</td>\n",
       "      <td>0.780861</td>\n",
       "      <td>0.312444</td>\n",
       "      <td>0.645020</td>\n",
       "    </tr>\n",
       "    <tr>\n",
       "      <td>std</td>\n",
       "      <td>1.441271</td>\n",
       "      <td>0.103967</td>\n",
       "      <td>1.436359</td>\n",
       "      <td>0.769664</td>\n",
       "      <td>0.900141</td>\n",
       "      <td>0.693974</td>\n",
       "      <td>0.258373</td>\n",
       "      <td>0.587406</td>\n",
       "      <td>0.555121</td>\n",
       "      <td>1.154305</td>\n",
       "      <td>1.403477</td>\n",
       "      <td>1.609456</td>\n",
       "      <td>0.522019</td>\n",
       "      <td>0.212341</td>\n",
       "      <td>0.155563</td>\n",
       "      <td>3.165022</td>\n",
       "      <td>1.058836</td>\n",
       "      <td>1.633605</td>\n",
       "      <td>0.539115</td>\n",
       "      <td>1.036139</td>\n",
       "    </tr>\n",
       "    <tr>\n",
       "      <td>min</td>\n",
       "      <td>0.010000</td>\n",
       "      <td>0.020000</td>\n",
       "      <td>0.010000</td>\n",
       "      <td>0.070000</td>\n",
       "      <td>0.010000</td>\n",
       "      <td>0.010000</td>\n",
       "      <td>0.080000</td>\n",
       "      <td>0.010000</td>\n",
       "      <td>0.020000</td>\n",
       "      <td>0.000000</td>\n",
       "      <td>0.000000</td>\n",
       "      <td>0.010000</td>\n",
       "      <td>0.010000</td>\n",
       "      <td>0.010000</td>\n",
       "      <td>0.030000</td>\n",
       "      <td>0.010000</td>\n",
       "      <td>0.010000</td>\n",
       "      <td>0.010000</td>\n",
       "      <td>0.010000</td>\n",
       "      <td>0.010000</td>\n",
       "    </tr>\n",
       "    <tr>\n",
       "      <td>25%</td>\n",
       "      <td>0.050000</td>\n",
       "      <td>0.045000</td>\n",
       "      <td>0.050000</td>\n",
       "      <td>0.202500</td>\n",
       "      <td>0.052500</td>\n",
       "      <td>0.060000</td>\n",
       "      <td>0.152500</td>\n",
       "      <td>0.020000</td>\n",
       "      <td>0.090000</td>\n",
       "      <td>0.080000</td>\n",
       "      <td>0.110000</td>\n",
       "      <td>0.060000</td>\n",
       "      <td>0.030000</td>\n",
       "      <td>0.020000</td>\n",
       "      <td>0.085000</td>\n",
       "      <td>0.090000</td>\n",
       "      <td>0.080000</td>\n",
       "      <td>0.110000</td>\n",
       "      <td>0.060000</td>\n",
       "      <td>0.060000</td>\n",
       "    </tr>\n",
       "    <tr>\n",
       "      <td>50%</td>\n",
       "      <td>0.120000</td>\n",
       "      <td>0.120000</td>\n",
       "      <td>0.110000</td>\n",
       "      <td>0.725000</td>\n",
       "      <td>0.160000</td>\n",
       "      <td>0.150000</td>\n",
       "      <td>0.235000</td>\n",
       "      <td>0.040000</td>\n",
       "      <td>0.155000</td>\n",
       "      <td>0.230000</td>\n",
       "      <td>0.280000</td>\n",
       "      <td>0.200000</td>\n",
       "      <td>0.090000</td>\n",
       "      <td>0.050000</td>\n",
       "      <td>0.140000</td>\n",
       "      <td>0.190000</td>\n",
       "      <td>0.220000</td>\n",
       "      <td>0.280000</td>\n",
       "      <td>0.150000</td>\n",
       "      <td>0.220000</td>\n",
       "    </tr>\n",
       "    <tr>\n",
       "      <td>75%</td>\n",
       "      <td>0.332500</td>\n",
       "      <td>0.170000</td>\n",
       "      <td>0.270000</td>\n",
       "      <td>1.687500</td>\n",
       "      <td>0.390000</td>\n",
       "      <td>0.367500</td>\n",
       "      <td>0.425000</td>\n",
       "      <td>0.150000</td>\n",
       "      <td>0.437500</td>\n",
       "      <td>0.560000</td>\n",
       "      <td>0.760000</td>\n",
       "      <td>0.730000</td>\n",
       "      <td>0.230000</td>\n",
       "      <td>0.130000</td>\n",
       "      <td>0.195000</td>\n",
       "      <td>0.487500</td>\n",
       "      <td>0.525000</td>\n",
       "      <td>0.770000</td>\n",
       "      <td>0.337500</td>\n",
       "      <td>0.685000</td>\n",
       "    </tr>\n",
       "    <tr>\n",
       "      <td>max</td>\n",
       "      <td>14.600000</td>\n",
       "      <td>0.330000</td>\n",
       "      <td>29.800000</td>\n",
       "      <td>1.920000</td>\n",
       "      <td>15.840000</td>\n",
       "      <td>7.060000</td>\n",
       "      <td>0.770000</td>\n",
       "      <td>8.010000</td>\n",
       "      <td>3.730000</td>\n",
       "      <td>20.810000</td>\n",
       "      <td>21.050000</td>\n",
       "      <td>14.630000</td>\n",
       "      <td>7.680000</td>\n",
       "      <td>1.960000</td>\n",
       "      <td>0.250000</td>\n",
       "      <td>82.540000</td>\n",
       "      <td>7.090000</td>\n",
       "      <td>21.820000</td>\n",
       "      <td>8.480000</td>\n",
       "      <td>7.390000</td>\n",
       "    </tr>\n",
       "  </tbody>\n",
       "</table>\n",
       "</div>"
      ],
      "text/plain": [
       "platform         3DS         DC           DS         GB         GBA  \\\n",
       "count     512.000000  11.000000  2120.000000  10.000000  810.000000   \n",
       "mean        0.503535   0.129091     0.378660   0.924000    0.386185   \n",
       "std         1.441271   0.103967     1.436359   0.769664    0.900141   \n",
       "min         0.010000   0.020000     0.010000   0.070000    0.010000   \n",
       "25%         0.050000   0.045000     0.050000   0.202500    0.052500   \n",
       "50%         0.120000   0.120000     0.110000   0.725000    0.160000   \n",
       "75%         0.332500   0.170000     0.270000   1.687500    0.390000   \n",
       "max        14.600000   0.330000    29.800000   1.920000   15.840000   \n",
       "\n",
       "platform          GC        N64          PC          PS          PS2  \\\n",
       "count     542.000000  10.000000  909.000000  114.000000  2045.000000   \n",
       "mean        0.362970   0.333000    0.221188    0.388860     0.584054   \n",
       "std         0.693974   0.258373    0.587406    0.555121     1.154305   \n",
       "min         0.010000   0.080000    0.010000    0.020000     0.000000   \n",
       "25%         0.060000   0.152500    0.020000    0.090000     0.080000   \n",
       "50%         0.150000   0.235000    0.040000    0.155000     0.230000   \n",
       "75%         0.367500   0.425000    0.150000    0.437500     0.560000   \n",
       "max         7.060000   0.770000    8.010000    3.730000    20.810000   \n",
       "\n",
       "platform          PS3         PS4          PSP         PSV        WS  \\\n",
       "count     1305.000000  392.000000  1193.000000  429.000000  2.000000   \n",
       "mean         0.713670    0.801378     0.242691    0.125431  0.140000   \n",
       "std          1.403477    1.609456     0.522019    0.212341  0.155563   \n",
       "min          0.000000    0.010000     0.010000    0.010000  0.030000   \n",
       "25%          0.110000    0.060000     0.030000    0.020000  0.085000   \n",
       "50%          0.280000    0.200000     0.090000    0.050000  0.140000   \n",
       "75%          0.760000    0.730000     0.230000    0.130000  0.195000   \n",
       "max         21.050000   14.630000     7.680000    1.960000  0.250000   \n",
       "\n",
       "platform          Wii        WiiU         X360          XB        XOne  \n",
       "count     1286.000000  147.000000  1231.000000  802.000000  247.000000  \n",
       "mean         0.692986    0.559116     0.780861    0.312444    0.645020  \n",
       "std          3.165022    1.058836     1.633605    0.539115    1.036139  \n",
       "min          0.010000    0.010000     0.010000    0.010000    0.010000  \n",
       "25%          0.090000    0.080000     0.110000    0.060000    0.060000  \n",
       "50%          0.190000    0.220000     0.280000    0.150000    0.220000  \n",
       "75%          0.487500    0.525000     0.770000    0.337500    0.685000  \n",
       "max         82.540000    7.090000    21.820000    8.480000    7.390000  "
      ]
     },
     "execution_count": 30,
     "metadata": {},
     "output_type": "execute_result"
    }
   ],
   "source": [
    "pivot_games_data.describe()"
   ]
  },
  {
   "cell_type": "markdown",
   "metadata": {},
   "source": [
    "Посмотрим более наглядно, как соотносятся друг с другом медианы и средние по продажам"
   ]
  },
  {
   "cell_type": "code",
   "execution_count": 31,
   "metadata": {},
   "outputs": [
    {
     "data": {
      "text/plain": [
       "Text(0.5, 1.0, 'Средние продаж разных платформ')"
      ]
     },
     "execution_count": 31,
     "metadata": {},
     "output_type": "execute_result"
    },
    {
     "data": {
      "image/png": "[encoded data removed]",
      "text/plain": [
       "<Figure size 1440x576 with 1 Axes>"
      ]
     },
     "metadata": {
      "needs_background": "light"
     },
     "output_type": "display_data"
    }
   ],
   "source": [
    "pivot_games_data.describe()[1:2].plot(kind='bar',figsize=(20,8), grid=True);\n",
    "plt.title('Средние продаж разных платформ')"
   ]
  },
  {
   "cell_type": "markdown",
   "metadata": {},
   "source": [
    "Выводы:  \n",
    "1) Средние для WS,PSV и DC примерно на одинаковом низком уровне (< 0.2)  \n",
    "2) Самые высокие средние у GB, PS3, PS4, Wii, Xbox 360, XOne  (> 0.6)  \n",
    "3) У WiiU, 3DS и PS2 средние между 0.4 и 0.6  \n",
    "4) У остальных платформ средние между 0.2 и 0.4  "
   ]
  },
  {
   "cell_type": "code",
   "execution_count": 32,
   "metadata": {},
   "outputs": [
    {
     "data": {
      "text/plain": [
       "Text(0.5, 1.0, 'Медианные продажи разных игровых платформ')"
      ]
     },
     "execution_count": 32,
     "metadata": {},
     "output_type": "execute_result"
    },
    {
     "data": {
      "image/png": "[encoded data removed]",
      "text/plain": [
       "<Figure size 1440x576 with 1 Axes>"
      ]
     },
     "metadata": {
      "needs_background": "light"
     },
     "output_type": "display_data"
    }
   ],
   "source": [
    "pivot_games_data.describe()[5:6].plot(kind='bar',figsize=(20,8), grid=True);\n",
    "plt.title('Медианные продажи разных игровых платформ')"
   ]
  },
  {
   "cell_type": "markdown",
   "metadata": {},
   "source": [
    "Выводы:  \n",
    "1) Медиана для GB самая высокая.   \n",
    "2) Медианы для N64, PS2, PS3, WiiU и Xbox 360, PS4 между 0.2 и 0.3  \n",
    "3) Медианные продажи для PC самые минимиальные, равно как и для PSV   \n",
    "  \n",
    "  \n",
    "Исходя из этой информации, мы откажемся выпускаться на PC и PSV, потому что их высокие результаты не обеспечены высокими мерами центральной тендеции. Возможно вышла какая-то хайповая игра, что на выбросе выдало продажи для платформ; нет никакой стабильности"
   ]
  },
  {
   "cell_type": "markdown",
   "metadata": {},
   "source": [
    "#### Посмотрите, как влияют на продажи внутри одной популярной платформы отзывы пользователей и критиков. \n",
    "  \n",
    "Построим диаграмму рассеяния и посчитаем корреляцию между отзывами и продажами. Сформулируем выводы и соотнесем их с продажами игр на других платформах."
   ]
  },
  {
   "cell_type": "code",
   "execution_count": 33,
   "metadata": {
    "scrolled": true
   },
   "outputs": [
    {
     "data": {
      "text/html": [
       "<div>\n",
       "<style scoped>\n",
       "    .dataframe tbody tr th:only-of-type {\n",
       "        vertical-align: middle;\n",
       "    }\n",
       "\n",
       "    .dataframe tbody tr th {\n",
       "        vertical-align: top;\n",
       "    }\n",
       "\n",
       "    .dataframe thead th {\n",
       "        text-align: right;\n",
       "    }\n",
       "</style>\n",
       "<table border=\"1\" class=\"dataframe\">\n",
       "  <thead>\n",
       "    <tr style=\"text-align: right;\">\n",
       "      <th></th>\n",
       "      <th>platform</th>\n",
       "      <th>critic_score</th>\n",
       "      <th>user_score</th>\n",
       "      <th>total_sales</th>\n",
       "    </tr>\n",
       "  </thead>\n",
       "  <tbody>\n",
       "    <tr>\n",
       "      <td>0</td>\n",
       "      <td>Wii</td>\n",
       "      <td>76.0</td>\n",
       "      <td>8.0</td>\n",
       "      <td>82.54</td>\n",
       "    </tr>\n",
       "    <tr>\n",
       "      <td>2</td>\n",
       "      <td>Wii</td>\n",
       "      <td>82.0</td>\n",
       "      <td>8.3</td>\n",
       "      <td>35.52</td>\n",
       "    </tr>\n",
       "    <tr>\n",
       "      <td>3</td>\n",
       "      <td>Wii</td>\n",
       "      <td>80.0</td>\n",
       "      <td>8.0</td>\n",
       "      <td>32.77</td>\n",
       "    </tr>\n",
       "    <tr>\n",
       "      <td>6</td>\n",
       "      <td>DS</td>\n",
       "      <td>89.0</td>\n",
       "      <td>8.5</td>\n",
       "      <td>29.80</td>\n",
       "    </tr>\n",
       "    <tr>\n",
       "      <td>7</td>\n",
       "      <td>Wii</td>\n",
       "      <td>58.0</td>\n",
       "      <td>6.6</td>\n",
       "      <td>28.91</td>\n",
       "    </tr>\n",
       "  </tbody>\n",
       "</table>\n",
       "</div>"
      ],
      "text/plain": [
       "  platform  critic_score  user_score  total_sales\n",
       "0      Wii          76.0         8.0        82.54\n",
       "2      Wii          82.0         8.3        35.52\n",
       "3      Wii          80.0         8.0        32.77\n",
       "6       DS          89.0         8.5        29.80\n",
       "7      Wii          58.0         6.6        28.91"
      ]
     },
     "execution_count": 33,
     "metadata": {},
     "output_type": "execute_result"
    }
   ],
   "source": [
    "games_data_scores_to_sales = games_data.drop(columns=['name','year_of_release','genre','na_sales',\n",
    "                                                     'eu_sales','jp_sales','other_sales','rating'])\n",
    "#games_data_scores_to_sales['user_score'].replace('tbd', None,inplace=True)\n",
    "#games_data_scores_to_sales.fillna(games_data_scores_to_sales['user_score'].median(),inplace=True)\n",
    "games_data_scores_to_sales.head()"
   ]
  },
  {
   "cell_type": "code",
   "execution_count": 34,
   "metadata": {},
   "outputs": [
    {
     "name": "stdout",
     "output_type": "stream",
     "text": [
      "<class 'pandas.core.frame.DataFrame'>\n",
      "Int64Index: 14120 entries, 0 to 16714\n",
      "Data columns (total 4 columns):\n",
      "platform        14120 non-null object\n",
      "critic_score    14120 non-null float64\n",
      "user_score      14120 non-null float64\n",
      "total_sales     14120 non-null float64\n",
      "dtypes: float64(3), object(1)\n",
      "memory usage: 551.6+ KB\n"
     ]
    }
   ],
   "source": [
    "games_data_scores_to_sales.info()"
   ]
  },
  {
   "cell_type": "code",
   "execution_count": 35,
   "metadata": {},
   "outputs": [],
   "source": [
    "### Приведём user_score к числовому формату\n",
    "games_data_scores_to_sales['user_score']=pd.to_numeric(games_data_scores_to_sales['user_score'], errors='coerce')"
   ]
  },
  {
   "cell_type": "code",
   "execution_count": 36,
   "metadata": {},
   "outputs": [
    {
     "data": {
      "image/png": "[encoded data removed]",
      "text/plain": [
       "<Figure size 1440x576 with 9 Axes>"
      ]
     },
     "metadata": {
      "needs_background": "light"
     },
     "output_type": "display_data"
    }
   ],
   "source": [
    "# Построим диаграмму рассеивания для числовых величин\n",
    "pd.plotting.scatter_matrix(games_data_scores_to_sales, figsize=(20,8));"
   ]
  },
  {
   "cell_type": "code",
   "execution_count": 37,
   "metadata": {},
   "outputs": [
    {
     "data": {
      "text/html": [
       "<div>\n",
       "<style scoped>\n",
       "    .dataframe tbody tr th:only-of-type {\n",
       "        vertical-align: middle;\n",
       "    }\n",
       "\n",
       "    .dataframe tbody tr th {\n",
       "        vertical-align: top;\n",
       "    }\n",
       "\n",
       "    .dataframe thead th {\n",
       "        text-align: right;\n",
       "    }\n",
       "</style>\n",
       "<table border=\"1\" class=\"dataframe\">\n",
       "  <thead>\n",
       "    <tr style=\"text-align: right;\">\n",
       "      <th></th>\n",
       "      <th>critic_score</th>\n",
       "      <th>user_score</th>\n",
       "      <th>total_sales</th>\n",
       "    </tr>\n",
       "  </thead>\n",
       "  <tbody>\n",
       "    <tr>\n",
       "      <td>critic_score</td>\n",
       "      <td>1.000000</td>\n",
       "      <td>0.799893</td>\n",
       "      <td>0.196515</td>\n",
       "    </tr>\n",
       "    <tr>\n",
       "      <td>user_score</td>\n",
       "      <td>0.799893</td>\n",
       "      <td>1.000000</td>\n",
       "      <td>0.178896</td>\n",
       "    </tr>\n",
       "    <tr>\n",
       "      <td>total_sales</td>\n",
       "      <td>0.196515</td>\n",
       "      <td>0.178896</td>\n",
       "      <td>1.000000</td>\n",
       "    </tr>\n",
       "  </tbody>\n",
       "</table>\n",
       "</div>"
      ],
      "text/plain": [
       "              critic_score  user_score  total_sales\n",
       "critic_score      1.000000    0.799893     0.196515\n",
       "user_score        0.799893    1.000000     0.178896\n",
       "total_sales       0.196515    0.178896     1.000000"
      ]
     },
     "execution_count": 37,
     "metadata": {},
     "output_type": "execute_result"
    }
   ],
   "source": [
    "### Посмотрим корреляционную таблицу\n",
    "\n",
    "games_data_scores_to_sales.corr()"
   ]
  },
  {
   "cell_type": "code",
   "execution_count": 38,
   "metadata": {},
   "outputs": [
    {
     "data": {
      "text/plain": [
       "array(['Wii', 'DS', 'X360', 'PS3', 'PS2', 'GBA', 'PS4', '3DS', 'XB', 'PC',\n",
       "       'PSP', 'XOne', 'WiiU', 'GC', 'PS', 'PSV', 'GB', 'N64', 'DC', 'WS'],\n",
       "      dtype=object)"
      ]
     },
     "execution_count": 38,
     "metadata": {},
     "output_type": "execute_result"
    }
   ],
   "source": [
    "### Теперь посмотрим на влияние оценок критиков и пользователей на продажи ПО ПЛАТФОРМАМ\n",
    "\n",
    "games_data_scores_to_sales['platform'].unique()"
   ]
  },
  {
   "cell_type": "markdown",
   "metadata": {},
   "source": [
    "Посмотрим на корреляцию между отзывами и продажами на различных платформах. Как видно, самая сильная корреляция наблюдается между отзывами пользователей и оценками критиков практически для всех платформ. Корреляции между продажами и отзывами практически не наблюдается. "
   ]
  },
  {
   "cell_type": "code",
   "execution_count": 70,
   "metadata": {},
   "outputs": [],
   "source": [
    "import seaborn as sns"
   ]
  },
  {
   "cell_type": "code",
   "execution_count": 72,
   "metadata": {},
   "outputs": [
    {
     "data": {
      "text/plain": [
       "<matplotlib.axes._subplots.AxesSubplot at 0x7f602cecb390>"
      ]
     },
     "execution_count": 72,
     "metadata": {},
     "output_type": "execute_result"
    },
    {
     "data": {
      "image/png": "[encoded data removed]",
      "text/plain": [
       "<Figure size 432x288 with 2 Axes>"
      ]
     },
     "metadata": {
      "needs_background": "light"
     },
     "output_type": "display_data"
    }
   ],
   "source": [
    "plt.title('My heatmap')\n",
    "sns.heatmap(\n",
    "    games_data_scores_to_sales.corr(),\n",
    "    fmt='.2f',\n",
    "    annot=True\n",
    ")"
   ]
  },
  {
   "cell_type": "markdown",
   "metadata": {},
   "source": [
    "#### Посмотрим на общее распределение игр по жанрам. Что можно сказать о самых прибыльных жанрах? Выделяются ли жанры с высокими и низкими продажами?"
   ]
  },
  {
   "cell_type": "code",
   "execution_count": 40,
   "metadata": {},
   "outputs": [
    {
     "data": {
      "text/html": [
       "<div>\n",
       "<style scoped>\n",
       "    .dataframe tbody tr th:only-of-type {\n",
       "        vertical-align: middle;\n",
       "    }\n",
       "\n",
       "    .dataframe tbody tr th {\n",
       "        vertical-align: top;\n",
       "    }\n",
       "\n",
       "    .dataframe thead th {\n",
       "        text-align: right;\n",
       "    }\n",
       "</style>\n",
       "<table border=\"1\" class=\"dataframe\">\n",
       "  <thead>\n",
       "    <tr style=\"text-align: right;\">\n",
       "      <th></th>\n",
       "      <th>genre</th>\n",
       "      <th>total_sales</th>\n",
       "    </tr>\n",
       "  </thead>\n",
       "  <tbody>\n",
       "    <tr>\n",
       "      <td>0</td>\n",
       "      <td>Action</td>\n",
       "      <td>1492.18</td>\n",
       "    </tr>\n",
       "    <tr>\n",
       "      <td>10</td>\n",
       "      <td>Sports</td>\n",
       "      <td>1089.68</td>\n",
       "    </tr>\n",
       "    <tr>\n",
       "      <td>8</td>\n",
       "      <td>Shooter</td>\n",
       "      <td>905.87</td>\n",
       "    </tr>\n",
       "    <tr>\n",
       "      <td>3</td>\n",
       "      <td>Misc</td>\n",
       "      <td>702.80</td>\n",
       "    </tr>\n",
       "    <tr>\n",
       "      <td>7</td>\n",
       "      <td>Role-Playing</td>\n",
       "      <td>702.17</td>\n",
       "    </tr>\n",
       "    <tr>\n",
       "      <td>6</td>\n",
       "      <td>Racing</td>\n",
       "      <td>541.06</td>\n",
       "    </tr>\n",
       "    <tr>\n",
       "      <td>4</td>\n",
       "      <td>Platform</td>\n",
       "      <td>478.37</td>\n",
       "    </tr>\n",
       "    <tr>\n",
       "      <td>9</td>\n",
       "      <td>Simulation</td>\n",
       "      <td>332.04</td>\n",
       "    </tr>\n",
       "    <tr>\n",
       "      <td>2</td>\n",
       "      <td>Fighting</td>\n",
       "      <td>291.64</td>\n",
       "    </tr>\n",
       "    <tr>\n",
       "      <td>1</td>\n",
       "      <td>Adventure</td>\n",
       "      <td>180.78</td>\n",
       "    </tr>\n",
       "    <tr>\n",
       "      <td>5</td>\n",
       "      <td>Puzzle</td>\n",
       "      <td>134.37</td>\n",
       "    </tr>\n",
       "    <tr>\n",
       "      <td>11</td>\n",
       "      <td>Strategy</td>\n",
       "      <td>106.53</td>\n",
       "    </tr>\n",
       "  </tbody>\n",
       "</table>\n",
       "</div>"
      ],
      "text/plain": [
       "           genre  total_sales\n",
       "0         Action      1492.18\n",
       "10        Sports      1089.68\n",
       "8        Shooter       905.87\n",
       "3           Misc       702.80\n",
       "7   Role-Playing       702.17\n",
       "6         Racing       541.06\n",
       "4       Platform       478.37\n",
       "9     Simulation       332.04\n",
       "2       Fighting       291.64\n",
       "1      Adventure       180.78\n",
       "5         Puzzle       134.37\n",
       "11      Strategy       106.53"
      ]
     },
     "execution_count": 40,
     "metadata": {},
     "output_type": "execute_result"
    }
   ],
   "source": [
    "games_data.groupby('genre',as_index=False)['total_sales'].sum().sort_values(by='total_sales',ascending=False)"
   ]
  },
  {
   "cell_type": "markdown",
   "metadata": {},
   "source": [
    "Как видно, самыми прибыльными жанрами являются игры жанра эшкен, спортивные, а также шутеры."
   ]
  },
  {
   "cell_type": "markdown",
   "metadata": {},
   "source": [
    "### Составьте портрет пользователя каждого региона"
   ]
  },
  {
   "cell_type": "markdown",
   "metadata": {},
   "source": [
    "#### Найдём предпочтительные платформы"
   ]
  },
  {
   "cell_type": "code",
   "execution_count": 41,
   "metadata": {},
   "outputs": [
    {
     "data": {
      "image/png": "[encoded data removed]",
      "text/plain": [
       "<Figure size 432x288 with 1 Axes>"
      ]
     },
     "metadata": {
      "needs_background": "light"
     },
     "output_type": "display_data"
    },
    {
     "data": {
      "image/png": "[encoded data removed]",
      "text/plain": [
       "<Figure size 432x288 with 1 Axes>"
      ]
     },
     "metadata": {
      "needs_background": "light"
     },
     "output_type": "display_data"
    },
    {
     "data": {
      "image/png": "[encoded data removed]",
      "text/plain": [
       "<Figure size 432x288 with 1 Axes>"
      ]
     },
     "metadata": {
      "needs_background": "light"
     },
     "output_type": "display_data"
    }
   ],
   "source": [
    "### \n",
    "games_data.groupby(by='platform') \\\n",
    "             .agg({'na_sales':'sum'}) \\\n",
    "             .sort_values(by='na_sales', \n",
    "                          ascending=False) \\\n",
    "             .head(5) \\\n",
    "             .plot(kind='bar',\n",
    "                   alpha=0.3, \n",
    "                   color='r', \n",
    "                   grid=True)\n",
    "plt.ylabel('Количество продаж')\n",
    "plt.xlabel('Платформа')\n",
    "plt.title('Продажи в Северной Америке')\n",
    "\n",
    "###\n",
    "games_data.groupby(by='platform') \\\n",
    "             .agg({'eu_sales':'sum'}) \\\n",
    "             .sort_values(by='eu_sales', \n",
    "                          ascending=False) \\\n",
    "             .head(5) \\\n",
    "             .plot(kind='bar', alpha=0.3, color='y', grid=True)\n",
    "plt.ylabel('Количество продаж')\n",
    "plt.xlabel('Платформа')\n",
    "plt.title('Продажи в Европе')\n",
    "\n",
    "###\n",
    "games_data.groupby(by='platform') \\\n",
    "          .agg({'jp_sales':'sum'}) \\\n",
    "          .sort_values(by='jp_sales', \n",
    "                       ascending=False) \\\n",
    "          .head(5) \\\n",
    "          .plot(kind='bar', alpha=0.3, grid=True)\n",
    "\n",
    "plt.ylabel('Количество продаж')\n",
    "plt.xlabel('Платформа')\n",
    "plt.title('Продажи в Японии');"
   ]
  },
  {
   "cell_type": "markdown",
   "metadata": {},
   "source": [
    "Проверим:"
   ]
  },
  {
   "cell_type": "code",
   "execution_count": 42,
   "metadata": {},
   "outputs": [],
   "source": [
    "top_sales = games_data.groupby('platform').agg({'na_sales':'sum', 'eu_sales':'sum','jp_sales':'sum','other_sales':'sum'})"
   ]
  },
  {
   "cell_type": "code",
   "execution_count": 43,
   "metadata": {},
   "outputs": [
    {
     "data": {
      "text/plain": [
       "platform\n",
       "X360    595.74\n",
       "PS2     556.84\n",
       "Wii     486.87\n",
       "PS3     390.13\n",
       "DS      380.31\n",
       "Name: na_sales, dtype: float64"
      ]
     },
     "execution_count": 43,
     "metadata": {},
     "output_type": "execute_result"
    }
   ],
   "source": [
    "top_na = top_sales.sort_values(by='na_sales',ascending=False).head(5)['na_sales']\n",
    "top_na"
   ]
  },
  {
   "cell_type": "code",
   "execution_count": 44,
   "metadata": {},
   "outputs": [
    {
     "data": {
      "text/plain": [
       "platform\n",
       "PS3     327.21\n",
       "PS2     321.99\n",
       "X360    268.32\n",
       "Wii     258.32\n",
       "DS      188.41\n",
       "Name: eu_sales, dtype: float64"
      ]
     },
     "execution_count": 44,
     "metadata": {},
     "output_type": "execute_result"
    }
   ],
   "source": [
    "top_eu = top_sales.sort_values(by='eu_sales',ascending=False).head(5)['eu_sales']\n",
    "top_eu"
   ]
  },
  {
   "cell_type": "code",
   "execution_count": 45,
   "metadata": {
    "scrolled": true
   },
   "outputs": [
    {
     "data": {
      "text/plain": [
       "platform\n",
       "DS     175.00\n",
       "PS2    128.67\n",
       "3DS    100.62\n",
       "PS3     79.41\n",
       "PSP     75.88\n",
       "Name: jp_sales, dtype: float64"
      ]
     },
     "execution_count": 45,
     "metadata": {},
     "output_type": "execute_result"
    }
   ],
   "source": [
    "top_jp = top_sales.sort_values(by='jp_sales',ascending=False).head(5)['jp_sales']\n",
    "top_jp"
   ]
  },
  {
   "cell_type": "markdown",
   "metadata": {},
   "source": [
    "Если смотреть на общее количество, то в Северной Америке значительно больше денег тратят на игры. На втором месте Европа, а потом Япония"
   ]
  },
  {
   "cell_type": "markdown",
   "metadata": {},
   "source": [
    "Мы нашли топ-5 самых популярных платформ в Северной Америке, Европе и Японии. Давайте найдём их долю"
   ]
  },
  {
   "cell_type": "code",
   "execution_count": 46,
   "metadata": {},
   "outputs": [
    {
     "data": {
      "text/plain": [
       "[0.17, 0.16, 0.14, 0.11, 0.11]"
      ]
     },
     "execution_count": 46,
     "metadata": {},
     "output_type": "execute_result"
    }
   ],
   "source": [
    "### na\n",
    "[round(i/top_sales['na_sales'].sum(),2) for i in top_na.values]"
   ]
  },
  {
   "cell_type": "code",
   "execution_count": 47,
   "metadata": {},
   "outputs": [
    {
     "data": {
      "text/plain": [
       "[0.16, 0.16, 0.13, 0.13, 0.09]"
      ]
     },
     "execution_count": 47,
     "metadata": {},
     "output_type": "execute_result"
    }
   ],
   "source": [
    "### eu\n",
    "[round(i/top_sales['eu_sales'].sum(),2) for i in top_eu.values]"
   ]
  },
  {
   "cell_type": "code",
   "execution_count": 48,
   "metadata": {
    "scrolled": false
   },
   "outputs": [
    {
     "data": {
      "text/plain": [
       "[0.23, 0.17, 0.13, 0.1, 0.1]"
      ]
     },
     "execution_count": 48,
     "metadata": {},
     "output_type": "execute_result"
    }
   ],
   "source": [
    "### jp\n",
    "[round(i/top_sales['jp_sales'].sum(),2) for i in top_jp.values]"
   ]
  },
  {
   "cell_type": "markdown",
   "metadata": {},
   "source": [
    "#### Найдём предпочтительные жанры"
   ]
  },
  {
   "cell_type": "code",
   "execution_count": 49,
   "metadata": {},
   "outputs": [
    {
     "data": {
      "image/png": "[encoded data removed]",
      "text/plain": [
       "<Figure size 432x288 with 1 Axes>"
      ]
     },
     "metadata": {
      "needs_background": "light"
     },
     "output_type": "display_data"
    },
    {
     "data": {
      "image/png": "[encoded data removed]",
      "text/plain": [
       "<Figure size 432x288 with 1 Axes>"
      ]
     },
     "metadata": {
      "needs_background": "light"
     },
     "output_type": "display_data"
    },
    {
     "data": {
      "image/png": "[encoded data removed]",
      "text/plain": [
       "<Figure size 432x288 with 1 Axes>"
      ]
     },
     "metadata": {
      "needs_background": "light"
     },
     "output_type": "display_data"
    }
   ],
   "source": [
    "### \n",
    "games_data.groupby(by='genre') \\\n",
    "             .agg({'na_sales':'sum'}) \\\n",
    "             .sort_values(by='na_sales', \n",
    "                          ascending=False) \\\n",
    "             .head(5) \\\n",
    "             .plot(kind='bar',\n",
    "                   alpha=0.3, \n",
    "                   color='r', \n",
    "                   grid=True)\n",
    "plt.ylabel('Количество продаж')\n",
    "plt.xlabel('Жанр')\n",
    "plt.title('Продажи в Северной Америке')\n",
    "\n",
    "###\n",
    "games_data.groupby(by='genre') \\\n",
    "             .agg({'eu_sales':'sum'}) \\\n",
    "             .sort_values(by='eu_sales', \n",
    "                          ascending=False) \\\n",
    "             .head(5) \\\n",
    "             .plot(kind='bar', alpha=0.3, color='y', grid=True)\n",
    "plt.ylabel('Количество продаж')\n",
    "plt.xlabel('Жанр')\n",
    "plt.title('Продажи в Европе')\n",
    "\n",
    "###\n",
    "games_data.groupby(by='genre') \\\n",
    "          .agg({'jp_sales':'sum'}) \\\n",
    "          .sort_values(by='jp_sales', \n",
    "                       ascending=False) \\\n",
    "          .head(5) \\\n",
    "          .plot(kind='bar', alpha=0.3, grid=True)\n",
    "\n",
    "plt.ylabel('Количество продаж')\n",
    "plt.xlabel('Жанр')\n",
    "plt.title('Продажи в Японии');"
   ]
  },
  {
   "cell_type": "markdown",
   "metadata": {},
   "source": [
    "Аналогично для жанров. Больше количество игр было продано в na, поэтому гистограмма там на больших значениях по оси y. В целом Action почти везде лидирует, равно как и Sport. Япония активнее других играет в Role-Playing"
   ]
  },
  {
   "cell_type": "code",
   "execution_count": 50,
   "metadata": {},
   "outputs": [
    {
     "data": {
      "image/png": "[encoded data removed]",
      "text/plain": [
       "<Figure size 432x288 with 1 Axes>"
      ]
     },
     "metadata": {
      "needs_background": "light"
     },
     "output_type": "display_data"
    },
    {
     "data": {
      "image/png": "[encoded data removed]",
      "text/plain": [
       "<Figure size 432x288 with 1 Axes>"
      ]
     },
     "metadata": {
      "needs_background": "light"
     },
     "output_type": "display_data"
    },
    {
     "data": {
      "image/png": "[encoded data removed]",
      "text/plain": [
       "<Figure size 432x288 with 1 Axes>"
      ]
     },
     "metadata": {
      "needs_background": "light"
     },
     "output_type": "display_data"
    }
   ],
   "source": [
    "### \n",
    "games_data.groupby(by='rating') \\\n",
    "             .agg({'na_sales':'sum'}) \\\n",
    "             .sort_values(by='na_sales', \n",
    "                          ascending=False) \\\n",
    "             .head(5) \\\n",
    "             .plot(kind='bar',\n",
    "                   alpha=0.3, \n",
    "                   color='r', \n",
    "                   grid=True)\n",
    "plt.ylabel('Количество продаж')\n",
    "plt.xlabel('Жанр')\n",
    "plt.title('Продажи в Северной Америке')\n",
    "\n",
    "###\n",
    "games_data.groupby(by='rating') \\\n",
    "             .agg({'eu_sales':'sum'}) \\\n",
    "             .sort_values(by='eu_sales', \n",
    "                          ascending=False) \\\n",
    "             .head(5) \\\n",
    "             .plot(kind='bar', alpha=0.3, color='y', grid=True)\n",
    "plt.ylabel('Количество продаж')\n",
    "plt.xlabel('Жанр')\n",
    "plt.title('Продажи в Европе')\n",
    "\n",
    "###\n",
    "games_data.groupby(by='rating') \\\n",
    "          .agg({'jp_sales':'sum'}) \\\n",
    "          .sort_values(by='jp_sales', \n",
    "                       ascending=False) \\\n",
    "          .head(5) \\\n",
    "          .plot(kind='bar', alpha=0.3, grid=True)\n",
    "\n",
    "plt.ylabel('Количество продаж')\n",
    "plt.xlabel('Жанр')\n",
    "plt.title('Продажи в Японии');"
   ]
  },
  {
   "cell_type": "markdown",
   "metadata": {},
   "source": [
    "Как видно, рейтинг E (для всех) является лидером по продажам для каждого региона.  \n",
    "Далее, для Европы и Америки идёт рейтинг M (17+), для Японии же далее идёт рейтинг T (13+). Для всех стран категория игр E10+ на последнем месте по продажам.  \n",
    "Соответственно, чтобы сделать игру успшеной по продажам, она должна быть доступна всем возрастам.   \n",
    "Также, почему Япония редко покупает игры c T рейтингом, это свои особые традиции компьютерных игр. Играют они в своих покемонов с E, а всякие GTA не для них."
   ]
  },
  {
   "cell_type": "markdown",
   "metadata": {},
   "source": [
    "### Проведём исследование статистических показателей"
   ]
  },
  {
   "cell_type": "markdown",
   "metadata": {},
   "source": [
    "Нужно посчитать:  \n",
    "1) Пользовательский рейтинг для различных жанров  \n",
    "2) Рейтинг критиков для различных жанров  \n",
    "3) Среднее, дисперсию и стандартное отклонение  \n",
    "А также построить гистограммы"
   ]
  },
  {
   "cell_type": "code",
   "execution_count": 51,
   "metadata": {},
   "outputs": [
    {
     "data": {
      "text/html": [
       "<div>\n",
       "<style scoped>\n",
       "    .dataframe tbody tr th:only-of-type {\n",
       "        vertical-align: middle;\n",
       "    }\n",
       "\n",
       "    .dataframe tbody tr th {\n",
       "        vertical-align: top;\n",
       "    }\n",
       "\n",
       "    .dataframe thead th {\n",
       "        text-align: right;\n",
       "    }\n",
       "</style>\n",
       "<table border=\"1\" class=\"dataframe\">\n",
       "  <thead>\n",
       "    <tr style=\"text-align: right;\">\n",
       "      <th></th>\n",
       "      <th>name</th>\n",
       "      <th>platform</th>\n",
       "      <th>year_of_release</th>\n",
       "      <th>genre</th>\n",
       "      <th>na_sales</th>\n",
       "      <th>eu_sales</th>\n",
       "      <th>jp_sales</th>\n",
       "      <th>other_sales</th>\n",
       "      <th>critic_score</th>\n",
       "      <th>user_score</th>\n",
       "      <th>rating</th>\n",
       "      <th>total_sales</th>\n",
       "    </tr>\n",
       "  </thead>\n",
       "  <tbody>\n",
       "    <tr>\n",
       "      <td>0</td>\n",
       "      <td>Wii Sports</td>\n",
       "      <td>Wii</td>\n",
       "      <td>2006</td>\n",
       "      <td>Sports</td>\n",
       "      <td>41.36</td>\n",
       "      <td>28.96</td>\n",
       "      <td>3.77</td>\n",
       "      <td>8.45</td>\n",
       "      <td>76.0</td>\n",
       "      <td>8.0</td>\n",
       "      <td>E</td>\n",
       "      <td>82.54</td>\n",
       "    </tr>\n",
       "    <tr>\n",
       "      <td>2</td>\n",
       "      <td>Mario Kart Wii</td>\n",
       "      <td>Wii</td>\n",
       "      <td>2008</td>\n",
       "      <td>Racing</td>\n",
       "      <td>15.68</td>\n",
       "      <td>12.76</td>\n",
       "      <td>3.79</td>\n",
       "      <td>3.29</td>\n",
       "      <td>82.0</td>\n",
       "      <td>8.3</td>\n",
       "      <td>E</td>\n",
       "      <td>35.52</td>\n",
       "    </tr>\n",
       "    <tr>\n",
       "      <td>3</td>\n",
       "      <td>Wii Sports Resort</td>\n",
       "      <td>Wii</td>\n",
       "      <td>2009</td>\n",
       "      <td>Sports</td>\n",
       "      <td>15.61</td>\n",
       "      <td>10.93</td>\n",
       "      <td>3.28</td>\n",
       "      <td>2.95</td>\n",
       "      <td>80.0</td>\n",
       "      <td>8.0</td>\n",
       "      <td>E</td>\n",
       "      <td>32.77</td>\n",
       "    </tr>\n",
       "    <tr>\n",
       "      <td>6</td>\n",
       "      <td>New Super Mario Bros.</td>\n",
       "      <td>DS</td>\n",
       "      <td>2006</td>\n",
       "      <td>Platform</td>\n",
       "      <td>11.28</td>\n",
       "      <td>9.14</td>\n",
       "      <td>6.50</td>\n",
       "      <td>2.88</td>\n",
       "      <td>89.0</td>\n",
       "      <td>8.5</td>\n",
       "      <td>E</td>\n",
       "      <td>29.80</td>\n",
       "    </tr>\n",
       "    <tr>\n",
       "      <td>7</td>\n",
       "      <td>Wii Play</td>\n",
       "      <td>Wii</td>\n",
       "      <td>2006</td>\n",
       "      <td>Misc</td>\n",
       "      <td>13.96</td>\n",
       "      <td>9.18</td>\n",
       "      <td>2.93</td>\n",
       "      <td>2.84</td>\n",
       "      <td>58.0</td>\n",
       "      <td>6.6</td>\n",
       "      <td>E</td>\n",
       "      <td>28.91</td>\n",
       "    </tr>\n",
       "  </tbody>\n",
       "</table>\n",
       "</div>"
      ],
      "text/plain": [
       "                    name platform  year_of_release     genre  na_sales  \\\n",
       "0             Wii Sports      Wii             2006    Sports     41.36   \n",
       "2         Mario Kart Wii      Wii             2008    Racing     15.68   \n",
       "3      Wii Sports Resort      Wii             2009    Sports     15.61   \n",
       "6  New Super Mario Bros.       DS             2006  Platform     11.28   \n",
       "7               Wii Play      Wii             2006      Misc     13.96   \n",
       "\n",
       "   eu_sales  jp_sales  other_sales  critic_score  user_score rating  \\\n",
       "0     28.96      3.77         8.45          76.0         8.0      E   \n",
       "2     12.76      3.79         3.29          82.0         8.3      E   \n",
       "3     10.93      3.28         2.95          80.0         8.0      E   \n",
       "6      9.14      6.50         2.88          89.0         8.5      E   \n",
       "7      9.18      2.93         2.84          58.0         6.6      E   \n",
       "\n",
       "   total_sales  \n",
       "0        82.54  \n",
       "2        35.52  \n",
       "3        32.77  \n",
       "6        29.80  \n",
       "7        28.91  "
      ]
     },
     "execution_count": 51,
     "metadata": {},
     "output_type": "execute_result"
    }
   ],
   "source": [
    "games_data.head(5)"
   ]
  },
  {
   "cell_type": "code",
   "execution_count": 52,
   "metadata": {},
   "outputs": [],
   "source": [
    "### Давайте для начала отсчечем значения с -1"
   ]
  },
  {
   "cell_type": "code",
   "execution_count": 53,
   "metadata": {
    "scrolled": false
   },
   "outputs": [
    {
     "data": {
      "text/html": [
       "<div>\n",
       "<style scoped>\n",
       "    .dataframe tbody tr th:only-of-type {\n",
       "        vertical-align: middle;\n",
       "    }\n",
       "\n",
       "    .dataframe tbody tr th {\n",
       "        vertical-align: top;\n",
       "    }\n",
       "\n",
       "    .dataframe thead th {\n",
       "        text-align: right;\n",
       "    }\n",
       "</style>\n",
       "<table border=\"1\" class=\"dataframe\">\n",
       "  <thead>\n",
       "    <tr style=\"text-align: right;\">\n",
       "      <th></th>\n",
       "      <th>name</th>\n",
       "      <th>platform</th>\n",
       "      <th>year_of_release</th>\n",
       "      <th>genre</th>\n",
       "      <th>na_sales</th>\n",
       "      <th>eu_sales</th>\n",
       "      <th>jp_sales</th>\n",
       "      <th>other_sales</th>\n",
       "      <th>critic_score</th>\n",
       "      <th>user_score</th>\n",
       "      <th>rating</th>\n",
       "      <th>total_sales</th>\n",
       "    </tr>\n",
       "  </thead>\n",
       "  <tbody>\n",
       "    <tr>\n",
       "      <td>0</td>\n",
       "      <td>Wii Sports</td>\n",
       "      <td>Wii</td>\n",
       "      <td>2006</td>\n",
       "      <td>Sports</td>\n",
       "      <td>41.36</td>\n",
       "      <td>28.96</td>\n",
       "      <td>3.77</td>\n",
       "      <td>8.45</td>\n",
       "      <td>76.0</td>\n",
       "      <td>8.0</td>\n",
       "      <td>E</td>\n",
       "      <td>82.54</td>\n",
       "    </tr>\n",
       "    <tr>\n",
       "      <td>2</td>\n",
       "      <td>Mario Kart Wii</td>\n",
       "      <td>Wii</td>\n",
       "      <td>2008</td>\n",
       "      <td>Racing</td>\n",
       "      <td>15.68</td>\n",
       "      <td>12.76</td>\n",
       "      <td>3.79</td>\n",
       "      <td>3.29</td>\n",
       "      <td>82.0</td>\n",
       "      <td>8.3</td>\n",
       "      <td>E</td>\n",
       "      <td>35.52</td>\n",
       "    </tr>\n",
       "    <tr>\n",
       "      <td>3</td>\n",
       "      <td>Wii Sports Resort</td>\n",
       "      <td>Wii</td>\n",
       "      <td>2009</td>\n",
       "      <td>Sports</td>\n",
       "      <td>15.61</td>\n",
       "      <td>10.93</td>\n",
       "      <td>3.28</td>\n",
       "      <td>2.95</td>\n",
       "      <td>80.0</td>\n",
       "      <td>8.0</td>\n",
       "      <td>E</td>\n",
       "      <td>32.77</td>\n",
       "    </tr>\n",
       "    <tr>\n",
       "      <td>6</td>\n",
       "      <td>New Super Mario Bros.</td>\n",
       "      <td>DS</td>\n",
       "      <td>2006</td>\n",
       "      <td>Platform</td>\n",
       "      <td>11.28</td>\n",
       "      <td>9.14</td>\n",
       "      <td>6.50</td>\n",
       "      <td>2.88</td>\n",
       "      <td>89.0</td>\n",
       "      <td>8.5</td>\n",
       "      <td>E</td>\n",
       "      <td>29.80</td>\n",
       "    </tr>\n",
       "    <tr>\n",
       "      <td>7</td>\n",
       "      <td>Wii Play</td>\n",
       "      <td>Wii</td>\n",
       "      <td>2006</td>\n",
       "      <td>Misc</td>\n",
       "      <td>13.96</td>\n",
       "      <td>9.18</td>\n",
       "      <td>2.93</td>\n",
       "      <td>2.84</td>\n",
       "      <td>58.0</td>\n",
       "      <td>6.6</td>\n",
       "      <td>E</td>\n",
       "      <td>28.91</td>\n",
       "    </tr>\n",
       "  </tbody>\n",
       "</table>\n",
       "</div>"
      ],
      "text/plain": [
       "                    name platform  year_of_release     genre  na_sales  \\\n",
       "0             Wii Sports      Wii             2006    Sports     41.36   \n",
       "2         Mario Kart Wii      Wii             2008    Racing     15.68   \n",
       "3      Wii Sports Resort      Wii             2009    Sports     15.61   \n",
       "6  New Super Mario Bros.       DS             2006  Platform     11.28   \n",
       "7               Wii Play      Wii             2006      Misc     13.96   \n",
       "\n",
       "   eu_sales  jp_sales  other_sales  critic_score  user_score rating  \\\n",
       "0     28.96      3.77         8.45          76.0         8.0      E   \n",
       "2     12.76      3.79         3.29          82.0         8.3      E   \n",
       "3     10.93      3.28         2.95          80.0         8.0      E   \n",
       "6      9.14      6.50         2.88          89.0         8.5      E   \n",
       "7      9.18      2.93         2.84          58.0         6.6      E   \n",
       "\n",
       "   total_sales  \n",
       "0        82.54  \n",
       "2        35.52  \n",
       "3        32.77  \n",
       "6        29.80  \n",
       "7        28.91  "
      ]
     },
     "execution_count": 53,
     "metadata": {},
     "output_type": "execute_result"
    }
   ],
   "source": [
    "games_scores = games_data[(games_data['critic_score'] > -1) & (games_data['user_score'] > -1)]\n",
    "games_scores.head()"
   ]
  },
  {
   "cell_type": "markdown",
   "metadata": {},
   "source": [
    "Построим таблицу со статистическими показателями"
   ]
  },
  {
   "cell_type": "code",
   "execution_count": 54,
   "metadata": {
    "scrolled": false
   },
   "outputs": [
    {
     "data": {
      "text/html": [
       "<div>\n",
       "<style scoped>\n",
       "    .dataframe tbody tr th:only-of-type {\n",
       "        vertical-align: middle;\n",
       "    }\n",
       "\n",
       "    .dataframe tbody tr th {\n",
       "        vertical-align: top;\n",
       "    }\n",
       "\n",
       "    .dataframe thead tr th {\n",
       "        text-align: left;\n",
       "    }\n",
       "\n",
       "    .dataframe thead tr:last-of-type th {\n",
       "        text-align: right;\n",
       "    }\n",
       "</style>\n",
       "<table border=\"1\" class=\"dataframe\">\n",
       "  <thead>\n",
       "    <tr>\n",
       "      <th></th>\n",
       "      <th colspan=\"2\" halign=\"left\">mean</th>\n",
       "      <th colspan=\"2\" halign=\"left\">var</th>\n",
       "      <th colspan=\"2\" halign=\"left\">std</th>\n",
       "    </tr>\n",
       "    <tr>\n",
       "      <th></th>\n",
       "      <th>critic_score</th>\n",
       "      <th>user_score</th>\n",
       "      <th>critic_score</th>\n",
       "      <th>user_score</th>\n",
       "      <th>critic_score</th>\n",
       "      <th>user_score</th>\n",
       "    </tr>\n",
       "    <tr>\n",
       "      <th>genre</th>\n",
       "      <th></th>\n",
       "      <th></th>\n",
       "      <th></th>\n",
       "      <th></th>\n",
       "      <th></th>\n",
       "      <th></th>\n",
       "    </tr>\n",
       "  </thead>\n",
       "  <tbody>\n",
       "    <tr>\n",
       "      <td>Action</td>\n",
       "      <td>67.751545</td>\n",
       "      <td>7.090111</td>\n",
       "      <td>201.601807</td>\n",
       "      <td>1.920211</td>\n",
       "      <td>14.198655</td>\n",
       "      <td>1.385717</td>\n",
       "    </tr>\n",
       "    <tr>\n",
       "      <td>Adventure</td>\n",
       "      <td>66.364341</td>\n",
       "      <td>7.183333</td>\n",
       "      <td>200.271408</td>\n",
       "      <td>2.617659</td>\n",
       "      <td>14.151728</td>\n",
       "      <td>1.617918</td>\n",
       "    </tr>\n",
       "    <tr>\n",
       "      <td>Fighting</td>\n",
       "      <td>69.642659</td>\n",
       "      <td>7.288643</td>\n",
       "      <td>192.058064</td>\n",
       "      <td>1.931176</td>\n",
       "      <td>13.858502</td>\n",
       "      <td>1.389668</td>\n",
       "    </tr>\n",
       "    <tr>\n",
       "      <td>Misc</td>\n",
       "      <td>67.314136</td>\n",
       "      <td>6.830628</td>\n",
       "      <td>219.223894</td>\n",
       "      <td>2.363233</td>\n",
       "      <td>14.806211</td>\n",
       "      <td>1.537281</td>\n",
       "    </tr>\n",
       "    <tr>\n",
       "      <td>Platform</td>\n",
       "      <td>69.691517</td>\n",
       "      <td>7.350900</td>\n",
       "      <td>167.749954</td>\n",
       "      <td>2.081990</td>\n",
       "      <td>12.951832</td>\n",
       "      <td>1.442910</td>\n",
       "    </tr>\n",
       "  </tbody>\n",
       "</table>\n",
       "</div>"
      ],
      "text/plain": [
       "                  mean                     var                     std  \\\n",
       "          critic_score user_score critic_score user_score critic_score   \n",
       "genre                                                                    \n",
       "Action       67.751545   7.090111   201.601807   1.920211    14.198655   \n",
       "Adventure    66.364341   7.183333   200.271408   2.617659    14.151728   \n",
       "Fighting     69.642659   7.288643   192.058064   1.931176    13.858502   \n",
       "Misc         67.314136   6.830628   219.223894   2.363233    14.806211   \n",
       "Platform     69.691517   7.350900   167.749954   2.081990    12.951832   \n",
       "\n",
       "                      \n",
       "          user_score  \n",
       "genre                 \n",
       "Action      1.385717  \n",
       "Adventure   1.617918  \n",
       "Fighting    1.389668  \n",
       "Misc        1.537281  \n",
       "Platform    1.442910  "
      ]
     },
     "execution_count": 54,
     "metadata": {},
     "output_type": "execute_result"
    }
   ],
   "source": [
    "games_stats = games_scores.pivot_table(index='genre',\n",
    "                                       values=['critic_score','user_score'],\n",
    "                                       aggfunc=[np.mean, np.var, np.std])\n",
    "games_stats.head()"
   ]
  },
  {
   "cell_type": "code",
   "execution_count": 55,
   "metadata": {},
   "outputs": [
    {
     "data": {
      "image/png": "[encoded data removed]",
      "text/plain": [
       "<Figure size 1152x648 with 1 Axes>"
      ]
     },
     "metadata": {
      "needs_background": "light"
     },
     "output_type": "display_data"
    }
   ],
   "source": [
    "ax = games_stats.plot(figsize=(16,9),grid=True)\n",
    "plt.xticks(list(range(games_stats.shape[0])), games_stats.index);"
   ]
  },
  {
   "cell_type": "markdown",
   "metadata": {},
   "source": [
    "На графике видно, что разные жанры имеют в среднем одинаковые оценки критиков и юзеров  \n",
    "Единственное, что меняется, это дисперсия для оценок критиков."
   ]
  },
  {
   "cell_type": "markdown",
   "metadata": {},
   "source": [
    "### Проверим гипотезы"
   ]
  },
  {
   "cell_type": "markdown",
   "metadata": {},
   "source": [
    "Средние пользовательские рейтинги платформ Xbox One и PC одинаковые;  \n",
    "Средние пользовательские рейтинги жанров Action (англ. «действие») и Sports (англ. «виды спорта») разные.\n"
   ]
  },
  {
   "cell_type": "markdown",
   "metadata": {},
   "source": [
    "#### Средние пользовательские рейтинги платформ Xbox One и PC одинаковые"
   ]
  },
  {
   "cell_type": "markdown",
   "metadata": {},
   "source": [
    "H0: средний пользовательский рейтинг платформ Xbox One и PC одинаковый  \n",
    "H1: средний пользовательский рейтинг платформ Xbox One и PC различается"
   ]
  },
  {
   "cell_type": "markdown",
   "metadata": {},
   "source": [
    "Сравним дисперсии показателей:"
   ]
  },
  {
   "cell_type": "code",
   "execution_count": 56,
   "metadata": {
    "scrolled": true
   },
   "outputs": [
    {
     "name": "stdout",
     "output_type": "stream",
     "text": [
      "Дисперсия для XOne: 1.90\n",
      "Дисперсия для PC: 2.31\n"
     ]
    }
   ],
   "source": [
    "XOnex_D = np.var(games_data[(games_data['platform'] == 'XOne') & (games_data['user_score'] > 0)]['user_score'])\n",
    "PC_D = np.var(games_data[(games_data['platform'] == 'PC') & (games_data['user_score'] > 0)]['user_score'])\n",
    "print('Дисперсия для XOne: {:.2f}'.format(XOnex_D))\n",
    "print('Дисперсия для PC: {:.2f}'.format(PC_D))"
   ]
  },
  {
   "cell_type": "markdown",
   "metadata": {},
   "source": [
    "Как видно, дисперсии выборок отличаются, поэтому в ttest_ind укажем атрибут equal_var=False"
   ]
  },
  {
   "cell_type": "code",
   "execution_count": 57,
   "metadata": {},
   "outputs": [],
   "source": [
    "alpha = 0.05"
   ]
  },
  {
   "cell_type": "code",
   "execution_count": 58,
   "metadata": {},
   "outputs": [],
   "source": [
    "XOne_data = games_data[(games_data['platform'] == 'XOne') & (games_data['user_score'] > 0)]['user_score']\n",
    "PC_data = games_data[(games_data['platform'] == 'PC') & (games_data['user_score'] > 0)]['user_score']"
   ]
  },
  {
   "cell_type": "markdown",
   "metadata": {},
   "source": [
    "Также давайте посмотрим на распределения выборок:"
   ]
  },
  {
   "cell_type": "code",
   "execution_count": 59,
   "metadata": {
    "scrolled": true
   },
   "outputs": [
    {
     "data": {
      "image/png": "[encoded data removed]",
      "text/plain": [
       "<Figure size 432x288 with 1 Axes>"
      ]
     },
     "metadata": {
      "needs_background": "light"
     },
     "output_type": "display_data"
    }
   ],
   "source": [
    "XOne_data.hist()\n",
    "plt.xlabel('Рейтинг')\n",
    "plt.ylabel('Количество оценок')\n",
    "plt.title('Гистограмма частот пользовательского рейтинга для XOne');"
   ]
  },
  {
   "cell_type": "code",
   "execution_count": 60,
   "metadata": {
    "scrolled": true
   },
   "outputs": [
    {
     "data": {
      "image/png": "[encoded data removed]",
      "text/plain": [
       "<Figure size 432x288 with 1 Axes>"
      ]
     },
     "metadata": {
      "needs_background": "light"
     },
     "output_type": "display_data"
    }
   ],
   "source": [
    "PC_data.hist()\n",
    "plt.xlabel('Рейтинг')\n",
    "plt.ylabel('Количество оценок')\n",
    "plt.title('Гистограмма частот пользовательского рейтинга для PC');"
   ]
  },
  {
   "cell_type": "markdown",
   "metadata": {},
   "source": [
    "В целом видно, что значения распределены нормально. Для XOne они сосредоточены вокруг 6-7, в то время как гистограмма оценок для PC распределена вокруг 8 и скошена вправо  \n",
    "Нормальность распределения позволяет нам использовать ttest для проверки гипотезы"
   ]
  },
  {
   "cell_type": "code",
   "execution_count": 61,
   "metadata": {},
   "outputs": [],
   "source": [
    "results = st.ttest_ind(XOne_data, PC_data, equal_var=False)"
   ]
  },
  {
   "cell_type": "code",
   "execution_count": 62,
   "metadata": {},
   "outputs": [
    {
     "name": "stdout",
     "output_type": "stream",
     "text": [
      "p-значение: 2.2075890056219328e-05\n",
      "Отвергаем нулевую гипотезу\n"
     ]
    }
   ],
   "source": [
    "print('p-значение:', results.pvalue)\n",
    "\n",
    "if results.pvalue < alpha:\n",
    "    print(\"Отвергаем нулевую гипотезу\")\n",
    "else:\n",
    "    print(\"Не получилось отвергнуть нулевую гипотезу\")\n"
   ]
  },
  {
   "cell_type": "markdown",
   "metadata": {},
   "source": [
    "#### Средние пользовательские рейтинги жанров Action (англ. «действие») и Sports (англ. «виды спорта») разные"
   ]
  },
  {
   "cell_type": "markdown",
   "metadata": {},
   "source": [
    "H0: средний пользовательский рейтинг жанров Action и Sports одинаковый  \n",
    "H1: средний пользовательский рейтинг жанров Action и Sports различается  "
   ]
  },
  {
   "cell_type": "code",
   "execution_count": 63,
   "metadata": {},
   "outputs": [
    {
     "name": "stdout",
     "output_type": "stream",
     "text": [
      "Дисперсия для игр жанра Action: 2.00\n",
      "Дисперсия для игр жанра Sports: 2.63\n"
     ]
    }
   ],
   "source": [
    "action_var = np.var(games_data[(games_data['genre']=='Action') & (games_data['user_score']>0)]['user_score'])\n",
    "sport_var = np.var(games_data[(games_data['genre']=='Sports') & (games_data['user_score']>0)]['user_score'])\n",
    "print('Дисперсия для игр жанра Action: {:.2f}'.format(action_var))\n",
    "print('Дисперсия для игр жанра Sports: {:.2f}'.format(sport_var))"
   ]
  },
  {
   "cell_type": "markdown",
   "metadata": {},
   "source": [
    "Как видно, дисперсии выборок отличаются, поэтому в ttest_ind укажем атрибут equal_var=False"
   ]
  },
  {
   "cell_type": "code",
   "execution_count": 64,
   "metadata": {},
   "outputs": [],
   "source": [
    "action_data = games_data[(games_data['genre']=='Action') & (games_data['user_score']>0)]['user_score']\n",
    "sports_data = games_data[(games_data['genre']=='Sports') & (games_data['user_score']>0)]['user_score']"
   ]
  },
  {
   "cell_type": "markdown",
   "metadata": {},
   "source": [
    "Посмотрим на распределения"
   ]
  },
  {
   "cell_type": "code",
   "execution_count": 65,
   "metadata": {},
   "outputs": [
    {
     "data": {
      "image/png": "[encoded data removed]",
      "text/plain": [
       "<Figure size 432x288 with 1 Axes>"
      ]
     },
     "metadata": {
      "needs_background": "light"
     },
     "output_type": "display_data"
    }
   ],
   "source": [
    "action_data.hist()\n",
    "plt.xlabel('Рейтинг')\n",
    "plt.ylabel('Количество оценок')\n",
    "plt.title('Гистограмма частот пользовательского рейтинга для игр жанра Action');"
   ]
  },
  {
   "cell_type": "code",
   "execution_count": 66,
   "metadata": {
    "scrolled": true
   },
   "outputs": [
    {
     "data": {
      "image/png": "[encoded data removed]",
      "text/plain": [
       "<Figure size 432x288 with 1 Axes>"
      ]
     },
     "metadata": {
      "needs_background": "light"
     },
     "output_type": "display_data"
    }
   ],
   "source": [
    "sports_data.hist()\n",
    "plt.xlabel('Рейтинг')\n",
    "plt.ylabel('Количество оценок')\n",
    "plt.title('Гистограмма частот пользовательского рейтинга для игр жанра Sports');"
   ]
  },
  {
   "cell_type": "markdown",
   "metadata": {},
   "source": [
    "Гистограммы частот распределены нормально, можем использовать t-test"
   ]
  },
  {
   "cell_type": "code",
   "execution_count": 67,
   "metadata": {},
   "outputs": [],
   "source": [
    "results2 = st.ttest_ind(action_data, sports_data, equal_var=False)"
   ]
  },
  {
   "cell_type": "code",
   "execution_count": 68,
   "metadata": {},
   "outputs": [
    {
     "name": "stdout",
     "output_type": "stream",
     "text": [
      "p-значение равно: 0.07686681371741208\n",
      "Принимаем нулевую гипотезу\n"
     ]
    }
   ],
   "source": [
    "print(f'p-значение равно: {results2.pvalue}')\n",
    "\n",
    "if results2.pvalue < alpha:\n",
    "    print('Отвергаем нулевую гипотезу')\n",
    "else:\n",
    "    print('Принимаем нулевую гипотезу')"
   ]
  },
  {
   "cell_type": "markdown",
   "metadata": {},
   "source": [
    "<b>Результаты исследования:</b>  \n",
    "1. Необходимо для выпуска выбирать платформу, которая проживёт ещё какое-то время. Средний срок жизни платформы - это 7,5 лет, а частота их обновления - 6 лет. Скорее всего стоит присмотреться к следующим платформам:  PS3, Xbox 360 и PS4  \n",
    "2. Лучше всего выходить на рынки в Северной Америке, так как они тратят на игры больше всего денег. В таком случае отказываемся от WiU, заменив её на Wii  \n",
    "3. Если мы выбираем выходить на рынки NA, то выпускаем игру в жанре Action или Sports.  \n",
    "4. Рейтинг для игры ставим E или M.   \n",
    "Если мы сделаем всё, как описано в инструкции, то срубим много баблинского и станем очень богатыми))"
   ]
  },
  {
   "cell_type": "code",
   "execution_count": null,
   "metadata": {},
   "outputs": [],
   "source": []
  }
 ],
 "metadata": {
  "kernelspec": {
   "display_name": "Python 3",
   "language": "python",
   "name": "python3"
  },
  "language_info": {
   "codemirror_mode": {
    "name": "ipython",
    "version": 3
   },
   "file_extension": ".py",
   "mimetype": "text/x-python",
   "name": "python",
   "nbconvert_exporter": "python",
   "pygments_lexer": "ipython3",
   "version": "3.8.5"
  },
  "toc": {
   "base_numbering": 1,
   "nav_menu": {},
   "number_sections": true,
   "sideBar": true,
   "skip_h1_title": true,
   "title_cell": "Table of Contents",
   "title_sidebar": "Contents",
   "toc_cell": false,
   "toc_position": {},
   "toc_section_display": true,
   "toc_window_display": false
  }
 },
 "nbformat": 4,
 "nbformat_minor": 2
}
